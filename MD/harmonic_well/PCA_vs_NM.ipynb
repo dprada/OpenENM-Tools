{
 "cells": [
  {
   "cell_type": "markdown",
   "id": "7840e8a5-497a-466c-9655-e5832d7949e5",
   "metadata": {},
   "source": [
    "# Principal Component Analysis versus Normal Modes with an Anisotropic Harmonic Well"
   ]
  },
  {
   "cell_type": "code",
   "execution_count": null,
   "id": "2077a078-d32a-4fac-95f3-d6d6a2027786",
   "metadata": {},
   "outputs": [],
   "source": [
    "import openmm as mm\n",
    "from openmm import app\n",
    "from openmm import unit\n",
    "import numpy as np\n",
    "from tqdm import tqdm\n",
    "import matplotlib.pyplot as plt\n",
    "import numpy as np"
   ]
  },
  {
   "cell_type": "code",
   "execution_count": null,
   "id": "b5ee0b61",
   "metadata": {},
   "outputs": [],
   "source": [
    "# Definición del sistema.\n",
    "\n",
    "n_particles = 1\n",
    "mass = 100 * unit.amu"
   ]
  },
  {
   "cell_type": "code",
   "execution_count": null,
   "id": "293e4dc0",
   "metadata": {},
   "outputs": [],
   "source": [
    "# Creación del sistema.\n",
    "\n",
    "system = mm.System()\n",
    "\n",
    "for ii in range(n_particles):\n",
    "    system.addParticle(mass)"
   ]
  },
  {
   "cell_type": "code",
   "execution_count": null,
   "id": "ec45bee6",
   "metadata": {},
   "outputs": [],
   "source": [
    "# Añadiendo el potencial externo al sistema\n",
    "\n",
    "Kx = 5.0 * unit.kilocalorie_per_mole/unit.nanometers**2\n",
    "Ky = 50.0 * unit.kilocalorie_per_mole/unit.nanometers**2\n",
    "Kz = 500.0 * unit.kilocalorie_per_mole/unit.nanometers**2\n",
    "\n",
    "force = mm.CustomExternalForce('A*x^2 + B*y^2 + C*z^2')\n",
    "force.addGlobalParameter('A', Kx/2.0)\n",
    "force.addGlobalParameter('B', Ky/2.0)\n",
    "force.addGlobalParameter('C', Kz/2.0)\n",
    "\n",
    "for ii in range(n_particles):\n",
    "    force.addParticle(ii, [])\n",
    "    \n",
    "_ = system.addForce(force)"
   ]
  },
  {
   "cell_type": "code",
   "execution_count": null,
   "id": "a98693c1",
   "metadata": {},
   "outputs": [],
   "source": [
    "# Definición del estado termodinámico y el integrador.\n",
    "\n",
    "step_size = 0.01*unit.picoseconds\n",
    "temperature = 300.0*unit.kelvin\n",
    "friction = 1.0/unit.picosecond # Damping para la dinámica de Langevin\n",
    "\n",
    "integrator = mm.LangevinIntegrator(temperature, friction, step_size)"
   ]
  },
  {
   "cell_type": "code",
   "execution_count": null,
   "id": "9de06d34",
   "metadata": {},
   "outputs": [],
   "source": [
    "# Creación de la plataforma.\n",
    "\n",
    "platform_name = 'CUDA' # Cambia a CUDA...\n",
    "platform = mm.Platform.getPlatformByName(platform_name)"
   ]
  },
  {
   "cell_type": "code",
   "execution_count": null,
   "id": "7fd9e474",
   "metadata": {},
   "outputs": [],
   "source": [
    "# Creación del contexto.\n",
    "\n",
    "context = mm.Context(system, integrator, platform)"
   ]
  },
  {
   "cell_type": "code",
   "execution_count": null,
   "id": "5df14c7e",
   "metadata": {},
   "outputs": [],
   "source": [
    "# Condiciones iniciales\n",
    "\n",
    "initial_positions  = np.zeros([n_particles, 3], np.float32) * unit.nanometers\n",
    "initial_velocities = np.zeros([n_particles, 3], np.float32) * unit.nanometers/unit.picoseconds\n",
    "\n",
    "context.setPositions(initial_positions)\n",
    "context.setVelocities(initial_velocities)"
   ]
  },
  {
   "cell_type": "code",
   "execution_count": null,
   "id": "fde03d97",
   "metadata": {},
   "outputs": [],
   "source": [
    "# Parámetros de la simulación.\n",
    "\n",
    "simulation_time = 0.10*unit.nanosecond\n",
    "saving_time = 1.0*unit.picoseconds"
   ]
  },
  {
   "cell_type": "code",
   "execution_count": null,
   "id": "aac226e5",
   "metadata": {},
   "outputs": [],
   "source": [
    "n_steps_per_period = int(saving_time/step_size) # número de pasos del periodo de guardado\n",
    "n_periods = int(simulation_time/saving_time) # número de periodos guardados"
   ]
  },
  {
   "cell_type": "code",
   "execution_count": null,
   "id": "bcba8086",
   "metadata": {},
   "outputs": [],
   "source": [
    "# Creación de arrays reporteros del tiempo, la posición y la velocidad.\n",
    "\n",
    "times = np.zeros([n_periods], np.float32) * unit.picoseconds\n",
    "positions = np.zeros([n_periods, n_particles, 3], np.float32) * unit.nanometers"
   ]
  },
  {
   "cell_type": "code",
   "execution_count": null,
   "id": "cfa4712f",
   "metadata": {},
   "outputs": [],
   "source": [
    "# Almacenamiento en reporteros de las condiciones iniciales para tiempo 0\n",
    "\n",
    "state = context.getState(getPositions=True)\n",
    "\n",
    "times[0] = state.getTime()\n",
    "positions[0] = state.getPositions()"
   ]
  },
  {
   "cell_type": "code",
   "execution_count": null,
   "id": "058151ac",
   "metadata": {},
   "outputs": [],
   "source": [
    "# Ejecuto el bucle sobre el número de periodos que vamos a simular\n",
    "\n",
    "for ii in tqdm(range(1, n_periods)):\n",
    "    context.getIntegrator().step(n_steps_per_period)\n",
    "    state = context.getState(getPositions=True)\n",
    "    times[ii] = state.getTime()\n",
    "    positions[ii] = state.getPositions()"
   ]
  },
  {
   "cell_type": "code",
   "execution_count": null,
   "id": "622ef801",
   "metadata": {},
   "outputs": [],
   "source": [
    "#Graficando las posiciones de cada dirección contra el tiempo\n",
    "\n",
    "for ii, axis_label in zip(range(3),['X','Y','Z']):\n",
    "    plt.plot(times, positions[:,0,ii])\n",
    "    plt.ylabel('{} ({})'.format(axis_label, positions.unit))\n",
    "    plt.xlabel('time ({})'.format(times.unit))\n",
    "    plt.show()"
   ]
  },
  {
   "cell_type": "code",
   "execution_count": null,
   "id": "fc0dddb7-b1e0-4bee-9d0f-7c224f3211eb",
   "metadata": {},
   "outputs": [],
   "source": [
    "positions.shape"
   ]
  },
  {
   "cell_type": "markdown",
   "id": "64fe015c-bddf-453c-9389-15fc67822f0b",
   "metadata": {},
   "source": [
    "Construimos la matriz de covarianza y la diagonalizamos -hacemos el análisis de componentes principales-:\n",
    "\n",
    "\n",
    "\\begin{equation}\n",
    "C = \\begin{pmatrix}\n",
    "\\langle x^{2} \\rangle - \\langle x \\rangle^{2} & \\langle xy \\rangle - \\langle x \\rangle \\langle y \\rangle & \\langle xz \\rangle - \\langle x \\rangle \\langle z \\rangle \\\\\n",
    "\\langle yx \\rangle - \\langle y \\rangle \\langle x \\rangle & \\langle y^{2} \\rangle - \\langle y \\rangle^{2} & \\langle yz \\rangle - \\langle y \\rangle \\langle z \\rangle \\\\\n",
    "\\langle zx \\rangle - \\langle z \\rangle \\langle x \\rangle & \\langle zy \\rangle - \\langle z \\rangle \\langle y \\rangle & \\langle z^{2} \\rangle - \\langle z \\rangle^{2} \\\\\n",
    "\\end{pmatrix}.\n",
    "\\end{equation}\n"
   ]
  },
  {
   "cell_type": "markdown",
   "id": "1341c1eb-f187-4b01-a8cd-9cc4fdbca140",
   "metadata": {},
   "source": [
    "Preguntas a responder:\n",
    "\n",
    "- ¿Puedes calcular la distribución de probabilidad de que la partícula esté en un punto x del eje X observada de la trayectoria? (hacer histograma en el eje X y normalizarlo debidamente para representar la densidad de probabilidad).\n",
    "- ¿Puedes calcular la función de densidad de probabilidad P(x) teórica? ¿Son comparables?\n",
    "- ¿Puedes calcular la desviación cuadrática estandard teórica $\\sigma_{x} = \\langle x^{2} \\rangle - \\langle x \\rangle^{2}$? ¿Es comparable al valor observado de la trayectoria?\n",
    "- ¿Qué relación hay entre $\\langle x^{2} \\rangle - \\langle x \\rangle^{2}$ y la frecuencia natural clásica de oscilación de la partícula en el eje $X$?\n",
    "- ¿Cómo son los elementos de fuera de la diagonal de la matriz de covarianza?¿Qué significa?"
   ]
  },
  {
   "cell_type": "markdown",
   "id": "f17c2a32-329d-474d-b974-e618f7c045e2",
   "metadata": {},
   "source": [
    "# Para el futuro (por terminar)\n",
    "El potencial tiene los ejes de simetría alineados en X, Y y Z. Por construcción del hamiltoniano, la dinámica del sistema está decorrelacionada en los tres ejes. Ahora deberíamos de probar a construir una matriz de covarianza sencilla no alineada. Podríamos girar el pozo armónico en el espacio y correr una nueva dinámica. Pero vamos mejor a hacer un cambio de base de $[(1, 0, 0), (0, 1, 0), (0, 0, 1)]$ a $[(1, 1, 0), (1, 0, 1), (0, 1, 1)]$ (normalizado, claro)."
   ]
  },
  {
   "cell_type": "code",
   "execution_count": null,
   "id": "ab421a9e-fb13-4226-bc38-c682da300eb1",
   "metadata": {},
   "outputs": [],
   "source": []
  }
 ],
 "metadata": {
  "kernelspec": {
   "display_name": "Python 3 (ipykernel)",
   "language": "python",
   "name": "python3"
  },
  "language_info": {
   "codemirror_mode": {
    "name": "ipython",
    "version": 3
   },
   "file_extension": ".py",
   "mimetype": "text/x-python",
   "name": "python",
   "nbconvert_exporter": "python",
   "pygments_lexer": "ipython3",
   "version": "3.7.12"
  }
 },
 "nbformat": 4,
 "nbformat_minor": 5
}
