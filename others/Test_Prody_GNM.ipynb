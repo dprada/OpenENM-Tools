{
 "cells": [
  {
   "cell_type": "code",
   "execution_count": 25,
   "id": "c77ad9e1-bd2e-4eda-87b8-c9a6f4b3c82d",
   "metadata": {},
   "outputs": [],
   "source": [
    "import prody\n",
    "import openenm as oenm\n",
    "import numpy as np"
   ]
  },
  {
   "cell_type": "markdown",
   "id": "3ff1ff33-b800-46d9-affb-d2b343606eb6",
   "metadata": {},
   "source": [
    "## OpenENM GNM"
   ]
  },
  {
   "cell_type": "code",
   "execution_count": 20,
   "id": "7a116bc4-fed0-4951-b235-49fc363901c6",
   "metadata": {},
   "outputs": [],
   "source": [
    "gnm_oenm = oenm.GaussianNetworkModel('1tcd', cutoff='10 angstroms')"
   ]
  },
  {
   "cell_type": "code",
   "execution_count": 21,
   "id": "22e7b914-9131-46e0-95d7-02cd289c3572",
   "metadata": {},
   "outputs": [
    {
     "data": {
      "text/plain": [
       "array([[11, -1, -1, ...,  0,  0,  0],\n",
       "       [-1, 14, -1, ...,  0,  0,  0],\n",
       "       [-1, -1, 14, ...,  0,  0,  0],\n",
       "       ...,\n",
       "       [ 0,  0,  0, ..., 19, -1, -1],\n",
       "       [ 0,  0,  0, ..., -1, 22, -1],\n",
       "       [ 0,  0,  0, ..., -1, -1, 13]])"
      ]
     },
     "execution_count": 21,
     "metadata": {},
     "output_type": "execute_result"
    }
   ],
   "source": [
    "gnm_oenm.kirchhoff_matrix"
   ]
  },
  {
   "cell_type": "markdown",
   "id": "071e0699-bcc4-4a85-8051-75ff5611fc03",
   "metadata": {},
   "source": [
    "## Prody GNM"
   ]
  },
  {
   "cell_type": "code",
   "execution_count": 3,
   "id": "375934ef-0109-4249-aa10-683fa381d957",
   "metadata": {},
   "outputs": [
    {
     "name": "stderr",
     "output_type": "stream",
     "text": [
      "@> Connecting wwPDB FTP server RCSB PDB (USA).\n",
      "@> 1tcd downloaded (1tcd.pdb.gz)\n",
      "@> PDB download via FTP completed (1 downloaded, 0 failed).\n",
      "@> 3983 atoms and 1 coordinate set(s) were parsed in 0.07s.\n"
     ]
    }
   ],
   "source": [
    "tri = prody.parsePDB('1tcd')"
   ]
  },
  {
   "cell_type": "code",
   "execution_count": 6,
   "id": "eede1bab-fe7a-4451-8cfc-bc549329c564",
   "metadata": {},
   "outputs": [],
   "source": [
    "calphas = tri.select('calpha')"
   ]
  },
  {
   "cell_type": "code",
   "execution_count": 13,
   "id": "db688c37-9f98-4798-83b1-c56e42c8a38a",
   "metadata": {},
   "outputs": [],
   "source": [
    "gnm_prody = prody.GNM('Triosa')"
   ]
  },
  {
   "cell_type": "markdown",
   "id": "b9236484-fdfd-43c2-a90e-31811a348e6d",
   "metadata": {},
   "source": [
    "### Kirchhoff matrix comparison"
   ]
  },
  {
   "cell_type": "code",
   "execution_count": 23,
   "id": "da5fe3f0-7479-4aa3-9646-ae1d0d98e9a2",
   "metadata": {},
   "outputs": [
    {
     "name": "stderr",
     "output_type": "stream",
     "text": [
      "@> Kirchhoff was built in 0.03s.\n"
     ]
    }
   ],
   "source": [
    "gnm_prody.buildKirchhoff(calphas, cutoff=10., gamma=1.)"
   ]
  },
  {
   "cell_type": "code",
   "execution_count": 26,
   "id": "9fc55236-a8be-42ed-ada3-4eee42c2eab5",
   "metadata": {},
   "outputs": [
    {
     "data": {
      "text/plain": [
       "array([[11., -1., -1., ...,  0.,  0.,  0.],\n",
       "       [-1., 14., -1., ...,  0.,  0.,  0.],\n",
       "       [-1., -1., 14., ...,  0.,  0.,  0.],\n",
       "       ...,\n",
       "       [ 0.,  0.,  0., ..., 19., -1., -1.],\n",
       "       [ 0.,  0.,  0., ..., -1., 22., -1.],\n",
       "       [ 0.,  0.,  0., ..., -1., -1., 13.]])"
      ]
     },
     "execution_count": 26,
     "metadata": {},
     "output_type": "execute_result"
    }
   ],
   "source": [
    "gnm_prody.getKirchhoff()"
   ]
  },
  {
   "cell_type": "code",
   "execution_count": 27,
   "id": "28cf26dd-af1d-4e9e-b836-49bc27638ffc",
   "metadata": {},
   "outputs": [
    {
     "data": {
      "text/plain": [
       "True"
      ]
     },
     "execution_count": 27,
     "metadata": {},
     "output_type": "execute_result"
    }
   ],
   "source": [
    "np.all(gnm_oenm.kirchhoff_matrix==gnm_prody.getKirchhoff())"
   ]
  },
  {
   "cell_type": "markdown",
   "id": "853a9587-6379-4de5-b8f8-4c605ea82b30",
   "metadata": {},
   "source": [
    "### Eigvals and Eigvects comparison"
   ]
  },
  {
   "cell_type": "code",
   "execution_count": 36,
   "id": "bb9f7b60-a479-47cb-be09-cc1ccd19ba5d",
   "metadata": {},
   "outputs": [
    {
     "name": "stderr",
     "output_type": "stream",
     "text": [
      "@> 497 modes were calculated in 0.13s.\n"
     ]
    }
   ],
   "source": [
    "gnm_prody.calcModes('all', zeros=True)"
   ]
  },
  {
   "cell_type": "code",
   "execution_count": 39,
   "id": "ce8ccf88-7c82-4fb6-9dba-0b8edafb308e",
   "metadata": {},
   "outputs": [
    {
     "data": {
      "text/plain": [
       "True"
      ]
     },
     "execution_count": 39,
     "metadata": {},
     "output_type": "execute_result"
    }
   ],
   "source": [
    "np.allclose(gnm_oenm.eigenvalues, gnm_prody.getEigvals())"
   ]
  },
  {
   "cell_type": "code",
   "execution_count": 45,
   "id": "9784afe0-796e-46ed-99f4-af2e0edd46f4",
   "metadata": {},
   "outputs": [
    {
     "data": {
      "text/plain": [
       "False"
      ]
     },
     "execution_count": 45,
     "metadata": {},
     "output_type": "execute_result"
    }
   ],
   "source": [
    "np.allclose(gnm_oenm.eigenvectors, gnm_prody.getEigvecs())"
   ]
  },
  {
   "cell_type": "code",
   "execution_count": 43,
   "id": "d0ed4e8e-7c1d-4c6a-af31-67b4287ccf87",
   "metadata": {},
   "outputs": [],
   "source": [
    "eigvecs_prody = gnm_prody.getEigvecs()"
   ]
  },
  {
   "cell_type": "code",
   "execution_count": 49,
   "id": "cc477c62-ce7c-4203-adbe-ffd3bd27f968",
   "metadata": {},
   "outputs": [
    {
     "data": {
      "text/plain": [
       "array([-0.04485613, -0.05756788,  0.02853722,  0.00827805,  0.03945476,\n",
       "       -0.01531639, -0.06829124, -0.0678335 , -0.00783387,  0.00371932])"
      ]
     },
     "execution_count": 49,
     "metadata": {},
     "output_type": "execute_result"
    }
   ],
   "source": [
    "eigvecs_prody[0][:10]"
   ]
  },
  {
   "cell_type": "code",
   "execution_count": 50,
   "id": "f88a3672-2b01-48ae-b318-41a70707adcf",
   "metadata": {},
   "outputs": [
    {
     "data": {
      "text/plain": [
       "array([ 0.04485613, -0.05756788,  0.02853722, -0.00827805,  0.03945476,\n",
       "       -0.01531639,  0.06829124, -0.0678335 ,  0.00783387, -0.00371932])"
      ]
     },
     "execution_count": 50,
     "metadata": {},
     "output_type": "execute_result"
    }
   ],
   "source": [
    "gnm_oenm.eigenvectors[0][:10]"
   ]
  },
  {
   "cell_type": "code",
   "execution_count": 71,
   "id": "d0ee82f9-ae56-4d45-bbbc-cac2a8646d8d",
   "metadata": {},
   "outputs": [],
   "source": [
    "comparison=[]\n",
    "for ii in range(497):\n",
    "    if np.sign(gnm_oenm.eigenvectors[0][ii])!=np.sign(eigvecs_prody[0][ii]):\n",
    "        comparison.append(np.allclose(gnm_oenm.eigenvectors[:,ii], -eigvecs_prody[:,ii]))\n",
    "    else:\n",
    "        comparison.append(np.allclose(gnm_oenm.eigenvectors[:,ii], eigvecs_prody[:,ii]))"
   ]
  },
  {
   "cell_type": "code",
   "execution_count": 73,
   "id": "14de8d6c-0d37-4510-a29d-c23dfb2117c1",
   "metadata": {},
   "outputs": [
    {
     "data": {
      "text/plain": [
       "True"
      ]
     },
     "execution_count": 73,
     "metadata": {},
     "output_type": "execute_result"
    }
   ],
   "source": [
    "np.all(comparison)"
   ]
  },
  {
   "cell_type": "code",
   "execution_count": null,
   "id": "8cc00aa6-ce87-440d-90b2-fc5fd6da0d58",
   "metadata": {},
   "outputs": [],
   "source": []
  }
 ],
 "metadata": {
  "kernelspec": {
   "display_name": "Python 3 (ipykernel)",
   "language": "python",
   "name": "python3"
  },
  "language_info": {
   "codemirror_mode": {
    "name": "ipython",
    "version": 3
   },
   "file_extension": ".py",
   "mimetype": "text/x-python",
   "name": "python",
   "nbconvert_exporter": "python",
   "pygments_lexer": "ipython3",
   "version": "3.9.13"
  }
 },
 "nbformat": 4,
 "nbformat_minor": 5
}
