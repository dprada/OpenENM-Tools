{
 "cells": [
  {
   "cell_type": "code",
   "execution_count": 1,
   "id": "c77ad9e1-bd2e-4eda-87b8-c9a6f4b3c82d",
   "metadata": {},
   "outputs": [
    {
     "data": {
      "application/vnd.jupyter.widget-view+json": {
       "model_id": "77ab125dd21c4d91b168e985b1c0e78d",
       "version_major": 2,
       "version_minor": 0
      },
      "text/plain": []
     },
     "metadata": {},
     "output_type": "display_data"
    }
   ],
   "source": [
    "import prody\n",
    "import openenm as oenm\n",
    "import numpy as np"
   ]
  },
  {
   "cell_type": "markdown",
   "id": "3ff1ff33-b800-46d9-affb-d2b343606eb6",
   "metadata": {},
   "source": [
    "## OpenENM ANM"
   ]
  },
  {
   "cell_type": "code",
   "execution_count": 2,
   "id": "7a116bc4-fed0-4951-b235-49fc363901c6",
   "metadata": {},
   "outputs": [],
   "source": [
    "anm_oenm = oenm.AnisotropicNetworkModel('1tcd', cutoff='10 angstroms')"
   ]
  },
  {
   "cell_type": "code",
   "execution_count": 3,
   "id": "22e7b914-9131-46e0-95d7-02cd289c3572",
   "metadata": {},
   "outputs": [
    {
     "data": {
      "text/plain": [
       "array([[ 3.76049413, -0.28232553,  0.21635409, ...,  0.        ,\n",
       "         0.        ,  0.        ],\n",
       "       [-0.28232553,  4.03251558, -1.09164678, ...,  0.        ,\n",
       "         0.        ,  0.        ],\n",
       "       [ 0.21635409, -1.09164678,  3.2069903 , ...,  0.        ,\n",
       "         0.        ,  0.        ],\n",
       "       ...,\n",
       "       [ 0.        ,  0.        ,  0.        , ...,  2.57922086,\n",
       "        -0.28738021,  0.31902976],\n",
       "       [ 0.        ,  0.        ,  0.        , ..., -0.28738021,\n",
       "         5.0640629 ,  1.07030712],\n",
       "       [ 0.        ,  0.        ,  0.        , ...,  0.31902976,\n",
       "         1.07030712,  5.35671624]])"
      ]
     },
     "execution_count": 3,
     "metadata": {},
     "output_type": "execute_result"
    }
   ],
   "source": [
    "anm_oenm.hessian_matrix"
   ]
  },
  {
   "cell_type": "markdown",
   "id": "071e0699-bcc4-4a85-8051-75ff5611fc03",
   "metadata": {},
   "source": [
    "## Prody GNM"
   ]
  },
  {
   "cell_type": "code",
   "execution_count": 4,
   "id": "375934ef-0109-4249-aa10-683fa381d957",
   "metadata": {},
   "outputs": [
    {
     "name": "stderr",
     "output_type": "stream",
     "text": [
      "@> PDB file is found in working directory (1tcd.pdb.gz).\n",
      "@> 3983 atoms and 1 coordinate set(s) were parsed in 0.06s.\n"
     ]
    }
   ],
   "source": [
    "tri = prody.parsePDB('1tcd')"
   ]
  },
  {
   "cell_type": "code",
   "execution_count": 5,
   "id": "eede1bab-fe7a-4451-8cfc-bc549329c564",
   "metadata": {},
   "outputs": [],
   "source": [
    "calphas = tri.select('calpha')"
   ]
  },
  {
   "cell_type": "code",
   "execution_count": 6,
   "id": "db688c37-9f98-4798-83b1-c56e42c8a38a",
   "metadata": {},
   "outputs": [],
   "source": [
    "anm_prody = prody.ANM('Triosa')"
   ]
  },
  {
   "cell_type": "markdown",
   "id": "b9236484-fdfd-43c2-a90e-31811a348e6d",
   "metadata": {},
   "source": [
    "### Kirchhoff matrix comparison"
   ]
  },
  {
   "cell_type": "code",
   "execution_count": 7,
   "id": "da5fe3f0-7479-4aa3-9646-ae1d0d98e9a2",
   "metadata": {},
   "outputs": [
    {
     "name": "stderr",
     "output_type": "stream",
     "text": [
      "@> Hessian was built in 0.12s.\n"
     ]
    }
   ],
   "source": [
    "anm_prody.buildHessian(calphas, cutoff=10., gamma=1.)"
   ]
  },
  {
   "cell_type": "code",
   "execution_count": 8,
   "id": "9fc55236-a8be-42ed-ada3-4eee42c2eab5",
   "metadata": {},
   "outputs": [],
   "source": [
    "prody_hessian = anm_prody.getHessian()"
   ]
  },
  {
   "cell_type": "code",
   "execution_count": 9,
   "id": "860c322a-eb81-4152-bfa3-9d248b3d46a4",
   "metadata": {},
   "outputs": [
    {
     "data": {
      "text/plain": [
       "array([[ 3.76049413, -0.28232553,  0.21635409, ...,  0.        ,\n",
       "         0.        ,  0.        ],\n",
       "       [-0.28232553,  4.03251558, -1.09164678, ...,  0.        ,\n",
       "         0.        ,  0.        ],\n",
       "       [ 0.21635409, -1.09164678,  3.2069903 , ...,  0.        ,\n",
       "         0.        ,  0.        ],\n",
       "       ...,\n",
       "       [ 0.        ,  0.        ,  0.        , ...,  2.57922086,\n",
       "        -0.28738021,  0.31902976],\n",
       "       [ 0.        ,  0.        ,  0.        , ..., -0.28738021,\n",
       "         5.0640629 ,  1.07030712],\n",
       "       [ 0.        ,  0.        ,  0.        , ...,  0.31902976,\n",
       "         1.07030712,  5.35671624]])"
      ]
     },
     "execution_count": 9,
     "metadata": {},
     "output_type": "execute_result"
    }
   ],
   "source": [
    "prody_hessian"
   ]
  },
  {
   "cell_type": "code",
   "execution_count": 10,
   "id": "28cf26dd-af1d-4e9e-b836-49bc27638ffc",
   "metadata": {},
   "outputs": [
    {
     "data": {
      "text/plain": [
       "True"
      ]
     },
     "execution_count": 10,
     "metadata": {},
     "output_type": "execute_result"
    }
   ],
   "source": [
    "np.allclose(anm_oenm.hessian_matrix, prody_hessian)"
   ]
  },
  {
   "cell_type": "markdown",
   "id": "853a9587-6379-4de5-b8f8-4c605ea82b30",
   "metadata": {},
   "source": [
    "### Eigvals and Eigvects comparison"
   ]
  },
  {
   "cell_type": "code",
   "execution_count": 11,
   "id": "bb9f7b60-a479-47cb-be09-cc1ccd19ba5d",
   "metadata": {},
   "outputs": [
    {
     "name": "stderr",
     "output_type": "stream",
     "text": [
      "@> 1491 modes were calculated in 0.77s.\n"
     ]
    }
   ],
   "source": [
    "anm_prody.calcModes('all', zeros=True)"
   ]
  },
  {
   "cell_type": "code",
   "execution_count": 13,
   "id": "ce8ccf88-7c82-4fb6-9dba-0b8edafb308e",
   "metadata": {},
   "outputs": [
    {
     "data": {
      "text/plain": [
       "True"
      ]
     },
     "execution_count": 13,
     "metadata": {},
     "output_type": "execute_result"
    }
   ],
   "source": [
    "np.allclose(anm_oenm.eigenvalues, anm_prody.getEigvals())"
   ]
  },
  {
   "cell_type": "code",
   "execution_count": 15,
   "id": "d0ed4e8e-7c1d-4c6a-af31-67b4287ccf87",
   "metadata": {},
   "outputs": [],
   "source": [
    "eigvecs_prody = anm_prody.getEigvecs()"
   ]
  },
  {
   "cell_type": "code",
   "execution_count": 27,
   "id": "cc477c62-ce7c-4203-adbe-ffd3bd27f968",
   "metadata": {},
   "outputs": [
    {
     "data": {
      "text/plain": [
       "array([ 0.00801775, -0.03147705, -0.01586492, ..., -0.02975954,\n",
       "        0.02208985,  0.03086396])"
      ]
     },
     "execution_count": 27,
     "metadata": {},
     "output_type": "execute_result"
    }
   ],
   "source": [
    "eigvecs_prody[:,6]"
   ]
  },
  {
   "cell_type": "code",
   "execution_count": 29,
   "id": "df788476-ab9b-4d60-bd22-661833758e6b",
   "metadata": {},
   "outputs": [
    {
     "data": {
      "text/plain": [
       "array([ 0.00801775, -0.03147705, -0.01586492, ..., -0.02975954,\n",
       "        0.02208985,  0.03086396])"
      ]
     },
     "execution_count": 29,
     "metadata": {},
     "output_type": "execute_result"
    }
   ],
   "source": [
    "anm_oenm.eigenvectors[:,6]"
   ]
  },
  {
   "cell_type": "code",
   "execution_count": 21,
   "id": "f88a3672-2b01-48ae-b318-41a70707adcf",
   "metadata": {},
   "outputs": [
    {
     "data": {
      "text/plain": [
       "array([ 2.63969877e-20,  7.52268133e-03, -6.18994951e-02, ...,\n",
       "       -5.43040560e-04,  2.19047635e-04, -5.73107278e-04])"
      ]
     },
     "execution_count": 21,
     "metadata": {},
     "output_type": "execute_result"
    }
   ],
   "source": [
    "np.diagonal(anm_oenm.eigenvectors)"
   ]
  },
  {
   "cell_type": "code",
   "execution_count": 35,
   "id": "d0ee82f9-ae56-4d45-bbbc-cac2a8646d8d",
   "metadata": {},
   "outputs": [],
   "source": [
    "comparison=[]\n",
    "for ii in range(5, 497):\n",
    "    if np.sign(anm_oenm.eigenvectors[0][ii])!=np.sign(eigvecs_prody[0][ii]):\n",
    "        comparison.append(np.allclose(anm_oenm.eigenvectors[:,ii], -eigvecs_prody[:,ii]))\n",
    "    else:\n",
    "        comparison.append(np.allclose(anm_oenm.eigenvectors[:,ii], eigvecs_prody[:,ii]))"
   ]
  },
  {
   "cell_type": "code",
   "execution_count": 44,
   "id": "bcdd45b5-b57b-4ac2-80eb-149a74d445f9",
   "metadata": {},
   "outputs": [
    {
     "data": {
      "text/plain": [
       "'p38_anm_modes.nmd'"
      ]
     },
     "execution_count": 44,
     "metadata": {},
     "output_type": "execute_result"
    }
   ],
   "source": [
    "prody.writeNMD('p38_anm_modes.nmd', anm_prody[0:10], calphas)"
   ]
  },
  {
   "cell_type": "code",
   "execution_count": 42,
   "id": "27a85645-4a4a-46d1-9a59-8fc2973ad3f3",
   "metadata": {},
   "outputs": [
    {
     "name": "stderr",
     "output_type": "stream",
     "text": [
      "@> WARNING VMD path is not set by user, looking for it.\n",
      "@> VMD path is set to '/usr/local/bin/vmd'.\n"
     ]
    },
    {
     "data": {
      "text/plain": [
       "'/usr/local/bin/vmd'"
      ]
     },
     "execution_count": 42,
     "metadata": {},
     "output_type": "execute_result"
    }
   ],
   "source": [
    "prody.pathVMD()"
   ]
  },
  {
   "cell_type": "code",
   "execution_count": 43,
   "id": "724a606f-7145-47c6-9005-c82ee23b5cca",
   "metadata": {},
   "outputs": [
    {
     "name": "stdout",
     "output_type": "stream",
     "text": [
      "Info) VMD for LINUXAMD64, version 1.9.2 (December 29, 2014)\n",
      "Info) http://www.ks.uiuc.edu/Research/vmd/                         \n",
      "Info) Email questions and bug reports to vmd@ks.uiuc.edu           \n",
      "Info) Please include this reference in published work using VMD:   \n",
      "Info)    Humphrey, W., Dalke, A. and Schulten, K., `VMD - Visual   \n",
      "Info)    Molecular Dynamics', J. Molec. Graphics 1996, 14.1, 33-38.\n",
      "Info) -------------------------------------------------------------\n",
      "Info) Multithreading available, 20 CPUs detected.\n",
      "Info) Free system memory: 17399MB (54%)\n",
      "Info) Creating CUDA device pool and initializing hardware...\n",
      "Info) Detected 2 available CUDA accelerators:\n",
      "Info) [0] NVIDIA GeForce GTX 1080 20 SM_6.1 @ 1.81 GHz, 7.9GB RAM, KTO, AE2, ZCP\n",
      "Info) [1] Quadro M2000        6 SM_5.2 @ 1.16 GHz, 3.9GB RAM, KTO, AE1, ZCP\n",
      "Warning) Detected X11 'Composite' extension: if incorrect display occurs\n",
      "Warning) try disabling this X server option.  Most OpenGL drivers\n",
      "Warning) disable stereoscopic display when 'Composite' is enabled.\n",
      "Info) OpenGL renderer: Quadro M2000/PCIe/SSE2\n",
      "Info)   Features: STENCIL MSAA(4) MDE CVA MTX NPOT PP PS GLSL(OVFGS) \n",
      "Info)   Full GLSL rendering mode is available.\n",
      "Info)   Textures: 2-D (16384x16384), 3-D (2048x2048x2048), Multitexture (4)\n",
      "Info) Dynamically loaded 2 plugins in directory:\n",
      "Info) /usr/local/lib/vmd/plugins/LINUXAMD64/molfile\n",
      "Info) NMWiz: Parsing file /home/diego/projects@dprada/OpenENM/docs/contents/p38_anm_modes.nmd\n",
      "Warning) NMWiz: segnames does not contain any data.\n",
      "Info) NMWiz: File contains a 3D model.\n",
      "Info) NMWiz: All segment names are set as \"A\".\n",
      "Info) Using plugin pdb for structure file /tmp/.nmdset0.pdb\n",
      "Info) Using plugin pdb for coordinates from file /tmp/.nmdset0.pdb\n",
      "Info) Determining bond structure from distance search ...\n",
      "Info) Analyzing structure ...\n",
      "Info)    Atoms: 497\n",
      "Info)    Bonds: 0\n",
      "Info)    Angles: 0  Dihedrals: 0  Impropers: 0  Cross-terms: 0\n",
      "Info)    Bondtypes: 0  Angletypes: 0  Dihedraltypes: 0  Impropertypes: 0\n",
      "Info)    Residues: 497\n",
      "Info)    Waters: 0\n",
      "Info)    Segments: 1\n",
      "Info)    Fragments: 497   Protein: 0   Nucleic: 0\n",
      "Info) Finished with coordinate file /tmp/.nmdset0.pdb.\n",
      "::nmdset0::handle\n",
      "bad option \"3_modes_from_ANM_Triosa\": must be children, code, current, delete, ensemble, eval, exists, export, forget, import, inscope, origin, parent, path, qualifiers, tail, unknown, upvar, or which\n",
      "invalid command name \"atomnames\"\n",
      "invalid command name \"resnames\"\n",
      "invalid command name \"resids\"\n",
      "invalid command name \"chainids\"\n",
      "invalid command name \"segnames\"\n",
      "invalid command name \"bfactors\"\n",
      "invalid command name \"coordinates\"\n",
      "invalid command name \"mode\"\n",
      "invalid command name \"mode\"\n",
      "invalid command name \"mode\"\n",
      "Info) VMD for LINUXAMD64, version 1.9.2 (December 29, 2014)\n",
      "Info) Exiting normally.\n"
     ]
    }
   ],
   "source": [
    "prody.viewNMDinVMD('p38_anm_modes.nmd')\n"
   ]
  },
  {
   "cell_type": "code",
   "execution_count": null,
   "id": "bb440d51-66dc-4ce8-aa2d-53565ed46b83",
   "metadata": {},
   "outputs": [],
   "source": []
  }
 ],
 "metadata": {
  "kernelspec": {
   "display_name": "Python 3 (ipykernel)",
   "language": "python",
   "name": "python3"
  },
  "language_info": {
   "codemirror_mode": {
    "name": "ipython",
    "version": 3
   },
   "file_extension": ".py",
   "mimetype": "text/x-python",
   "name": "python",
   "nbconvert_exporter": "python",
   "pygments_lexer": "ipython3",
   "version": "3.9.13"
  }
 },
 "nbformat": 4,
 "nbformat_minor": 5
}
