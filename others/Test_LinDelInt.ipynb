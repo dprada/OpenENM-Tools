{
 "cells": [
  {
   "cell_type": "markdown",
   "id": "c23af330-9d57-4d84-ad80-4155b2cc24bd",
   "metadata": {},
   "source": [
    "# Test"
   ]
  },
  {
   "cell_type": "code",
   "execution_count": 1,
   "id": "94a29a6e-a103-4520-93cd-7631ef431831",
   "metadata": {},
   "outputs": [
    {
     "data": {
      "application/vnd.jupyter.widget-view+json": {
       "model_id": "f0d8bdbb0f3048d3a19ea0e192d541e8",
       "version_major": 2,
       "version_minor": 0
      },
      "text/plain": []
     },
     "metadata": {},
     "output_type": "display_data"
    }
   ],
   "source": [
    "import openenm as oenm"
   ]
  },
  {
   "cell_type": "code",
   "execution_count": 2,
   "id": "03f9104d-52b8-48f2-9503-7d53829d8d54",
   "metadata": {},
   "outputs": [],
   "source": [
    "import molsysmt as msm\n",
    "from molsysmt import pyunitwizard as puw"
   ]
  },
  {
   "cell_type": "code",
   "execution_count": 3,
   "id": "4b8bf319-ccce-4194-a31a-12e6e2ed2d3c",
   "metadata": {},
   "outputs": [],
   "source": [
    "import lindelint as lin"
   ]
  },
  {
   "cell_type": "code",
   "execution_count": 4,
   "id": "20d16a9a-9396-4163-89f2-57090cf47a46",
   "metadata": {},
   "outputs": [],
   "source": [
    "anm = oenm.AnisotropicNetworkModel('1TCD', selection='atom_name==\"CA\"', cutoff='10 angstroms')"
   ]
  },
  {
   "cell_type": "code",
   "execution_count": 8,
   "id": "fe140acd-755c-4ba1-a923-6d2d9fa76605",
   "metadata": {},
   "outputs": [],
   "source": [
    "coordinates_CA = msm.get(anm.molecular_system, element='atom', selection=\"atom_name=='CA'\", coordinates=True)"
   ]
  },
  {
   "cell_type": "code",
   "execution_count": 9,
   "id": "354a1650-1caa-4c35-ad0f-06cdddf456bc",
   "metadata": {},
   "outputs": [],
   "source": [
    "arrows = puw.quantity(100.0*anm.modes[7], 'angstroms')"
   ]
  },
  {
   "cell_type": "code",
   "execution_count": 11,
   "id": "d67444a9-4080-4372-9c90-7c9e21d5d402",
   "metadata": {},
   "outputs": [
    {
     "data": {
      "application/vnd.jupyter.widget-view+json": {
       "model_id": "066984077b824ba3a0e33f1ae2165772",
       "version_major": 2,
       "version_minor": 0
      },
      "text/plain": [
       "NGLWidget()"
      ]
     },
     "metadata": {},
     "output_type": "display_data"
    }
   ],
   "source": [
    "view = msm.view(anm.molecular_system)\n",
    "view.clear()\n",
    "view.add_representation('ball+stick')\n",
    "msm.thirds.nglview.add_arrows(view, coordinates_CA, arrows, color='#ffa500')\n",
    "view"
   ]
  },
  {
   "cell_type": "code",
   "execution_count": 12,
   "id": "2d8b71f3-6e7f-43f4-8d60-628496d2c1de",
   "metadata": {},
   "outputs": [],
   "source": [
    "coordinates = msm.get(anm.molecular_system, element='atom', selection=anm.atom_indices, coordinates=True)"
   ]
  },
  {
   "cell_type": "code",
   "execution_count": 13,
   "id": "7dde0ab9-fc8d-4f36-a810-aac8d98a6601",
   "metadata": {},
   "outputs": [],
   "source": [
    "interpolator = lin.Interpolator(puw.get_value(coordinates[0]), puw.get_value(arrows))"
   ]
  },
  {
   "cell_type": "code",
   "execution_count": 15,
   "id": "585067da-c516-411b-b3a6-d3cc3c46f8a2",
   "metadata": {},
   "outputs": [],
   "source": [
    "arrows_2 = interpolator.do_your_thing(puw.get_value(coordinates[0]))"
   ]
  },
  {
   "cell_type": "code",
   "execution_count": 16,
   "id": "cc93701c-058e-4c6c-8325-7cd08c5cf6ff",
   "metadata": {},
   "outputs": [],
   "source": [
    "arrows_2 = puw.quantity(arrows_2, 'angstroms')"
   ]
  },
  {
   "cell_type": "code",
   "execution_count": 18,
   "id": "ab23bced-65ef-4b35-a1c7-096373411af1",
   "metadata": {},
   "outputs": [
    {
     "data": {
      "application/vnd.jupyter.widget-view+json": {
       "model_id": "e118e6c98c9d449ea5b8de030cb14d65",
       "version_major": 2,
       "version_minor": 0
      },
      "text/plain": [
       "NGLWidget()"
      ]
     },
     "metadata": {},
     "output_type": "display_data"
    }
   ],
   "source": [
    "view = msm.view(anm.molecular_system)\n",
    "view.clear()\n",
    "view.add_representation('ball+stick')\n",
    "#msm.thirds.nglview.add_arrows(view, coordinates_CA, arrows, color='#ffa500')\n",
    "msm.thirds.nglview.add_arrows(view, coordinates, arrows_2, color='#cccccc')\n",
    "view"
   ]
  },
  {
   "cell_type": "code",
   "execution_count": null,
   "id": "b6f6f6e8-d522-4fc7-b857-c4d602b32a70",
   "metadata": {},
   "outputs": [],
   "source": []
  }
 ],
 "metadata": {
  "kernelspec": {
   "display_name": "Python 3 (ipykernel)",
   "language": "python",
   "name": "python3"
  },
  "language_info": {
   "codemirror_mode": {
    "name": "ipython",
    "version": 3
   },
   "file_extension": ".py",
   "mimetype": "text/x-python",
   "name": "python",
   "nbconvert_exporter": "python",
   "pygments_lexer": "ipython3",
   "version": "3.9.13"
  }
 },
 "nbformat": 4,
 "nbformat_minor": 5
}
