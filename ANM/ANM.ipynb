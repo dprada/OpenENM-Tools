{
 "cells": [
  {
   "cell_type": "code",
   "execution_count": 1,
   "metadata": {
    "id": "9IW2nHk6lFAn"
   },
   "outputs": [
    {
     "data": {
      "application/vnd.jupyter.widget-view+json": {
       "model_id": "82c6e4663c6d4a2c9a117fb6b6f0686c",
       "version_major": 2,
       "version_minor": 0
      },
      "text/plain": []
     },
     "metadata": {},
     "output_type": "display_data"
    }
   ],
   "source": [
    "import numpy as np\n",
    "import requests\n",
    "import os\n",
    "from numpy.linalg import eigh\n",
    "import matplotlib.pyplot as plt\n",
    "import mdtraj as md\n",
    "import nglview as nv\n",
    "from mpl_toolkits.axes_grid1 import make_axes_locatable\n"
   ]
  },
  {
   "cell_type": "markdown",
   "metadata": {
    "id": "wyTN-ZatlFAs"
   },
   "source": [
    "# Working with the Anisotropic Network Model"
   ]
  },
  {
   "cell_type": "markdown",
   "metadata": {
    "id": "iHmTqGWLlFAv"
   },
   "source": [
    "## Downloading any PDB file\n",
    "\n",
    "Let's first of all store the PDB id we want to download and the path where the file needs to be located:"
   ]
  },
  {
   "cell_type": "code",
   "execution_count": 2,
   "metadata": {
    "id": "SBq9QCvelFAw"
   },
   "outputs": [],
   "source": [
    "pdb_id = '1HIV'\n",
    "download_path = \"./\""
   ]
  },
  {
   "cell_type": "markdown",
   "metadata": {
    "id": "ZGlDJEy1lFAx"
   },
   "source": [
    "And now let's define an auxiliary function to download pdb files to be stored locally in our machine."
   ]
  },
  {
   "cell_type": "code",
   "execution_count": 3,
   "metadata": {
    "id": "UtL1UAavlFAz"
   },
   "outputs": [],
   "source": [
    "def fetch_pdb(pdb_id, download_path=\"./\"):\n",
    "        url = 'http://files.rcsb.org/download/{}.pdb'.format(pdb_id)\n",
    "        try:\n",
    "            res = requests.get(url, allow_redirects=True)\n",
    "        except:\n",
    "            print(\"Could not fetch pdb from {}\".format(url))\n",
    "            return \n",
    "        \n",
    "        file_path = os.path.join(download_path, pdb_id + \".pdb\")\n",
    "        with open(file_path, \"wb\") as f:\n",
    "            f.write(res.content)\n",
    "        print(f\"The {pdb_id} file was downloaded succesfully!\")"
   ]
  },
  {
   "cell_type": "markdown",
   "metadata": {
    "id": "M57wYbIglFA0"
   },
   "source": [
    "Time to try it!"
   ]
  },
  {
   "cell_type": "code",
   "execution_count": 4,
   "metadata": {
    "colab": {
     "base_uri": "https://localhost:8080/"
    },
    "id": "kZNqSmJ_lFA1",
    "outputId": "f061da89-3fee-4529-bcca-3fe54d007bb2"
   },
   "outputs": [
    {
     "name": "stdout",
     "output_type": "stream",
     "text": [
      "The 1HIV file was downloaded succesfully!\n"
     ]
    }
   ],
   "source": [
    "fetch_pdb(pdb_id, download_path=download_path)"
   ]
  },
  {
   "cell_type": "markdown",
   "metadata": {
    "id": "HHla4c3KlFA2"
   },
   "source": [
    "## Parsing the positions of the CA atoms\n",
    "\n",
    "We are going take an approach not very short and efficient to obtain the coordinates of the CA atoms. But let's do it this way just once:"
   ]
  },
  {
   "cell_type": "code",
   "execution_count": 5,
   "metadata": {
    "id": "P4vnOMKKlFA3"
   },
   "outputs": [],
   "source": [
    "file_path = os.path.join(download_path, pdb_id + \".pdb\")\n",
    "\n",
    "CA_coordinates = []\n",
    "\n",
    "with open(file_path) as fff:\n",
    "    for line in fff.readlines():\n",
    "        if line.startswith('ATOM  ') and line.split()[2]=='CA' :\n",
    "          \n",
    "            x, y, z = line.split()[6:9]\n",
    "            CA_coordinates.append([float(x), float(y), float(z)])"
   ]
  },
  {
   "cell_type": "markdown",
   "metadata": {
    "id": "9PeYmfgWlFA4"
   },
   "source": [
    "Ok, `CA_coordinates` is a list of lists... let's convert it to a numpy array:"
   ]
  },
  {
   "cell_type": "code",
   "execution_count": 6,
   "metadata": {
    "id": "aYCi7ZRvlFA4"
   },
   "outputs": [],
   "source": [
    "CA_coordinates = np.array(CA_coordinates)"
   ]
  },
  {
   "cell_type": "code",
   "execution_count": 7,
   "metadata": {
    "colab": {
     "base_uri": "https://localhost:8080/"
    },
    "id": "OKk3YwESn7mn",
    "outputId": "ce2cc824-8d8c-4601-9633-f5a4340afd95"
   },
   "outputs": [
    {
     "data": {
      "text/plain": [
       "196"
      ]
     },
     "execution_count": 7,
     "metadata": {},
     "output_type": "execute_result"
    }
   ],
   "source": [
    "#Alpha carbon number\n",
    "len(CA_coordinates)"
   ]
  },
  {
   "cell_type": "code",
   "execution_count": null,
   "metadata": {},
   "outputs": [],
   "source": []
  },
  {
   "cell_type": "markdown",
   "metadata": {
    "id": "dp0YgOxpvj-Q"
   },
   "source": [
    "## Defining the equivalent Hessian matrix of the elastic 3D model"
   ]
  },
  {
   "cell_type": "code",
   "execution_count": 16,
   "metadata": {
    "id": "Gzv73WPtlXkH"
   },
   "outputs": [],
   "source": [
    "def anm_matrix(CA, threshold):\n",
    "    num_CAs = CA.shape[0]\n",
    "    matrix = np.zeros((3*num_CAs, 3*num_CAs), dtype=float)\n",
    "    for ii in range(num_CAs):\n",
    "        for jj in range(ii):\n",
    "            rij=CA[ii]-CA[jj]\n",
    "            distance=np.sqrt(np.dot(rij,rij))\n",
    "            if distance<threshold:\n",
    "                #Defining H_ij diagonal elements\n",
    "                x=0\n",
    "                for kk, ll in zip(range(ii*3,ii*3+3), range(jj*3,jj*3+3)):\n",
    "                    matrix[kk,ll]=-(CA[jj][x]-CA[ii][x])**2/distance\n",
    "                    x+=1\n",
    "                    \n",
    "                    \n",
    "                #H_ij off diagonal elements\n",
    "                matrix[ii*3,jj*3+1]=-(CA[jj][0]-CA[ii][0])*(CA[jj][1]-CA[ii][1])/distance\n",
    "                matrix[ii*3+1,jj*3]=-matrix[ii*3,jj*3+1] #Según Atilgan (2001) está definido como negativo pero en otros lugares lo veo como positivo\n",
    "                \n",
    "                matrix[ii*3,jj*3+2]=-(CA[jj][0]-CA[ii][0])*(CA[jj][2]-CA[ii][2])/distance\n",
    "                matrix[ii*3+2,jj*3]=-matrix[ii*3,jj*3+2]\n",
    "                \n",
    "                matrix[ii*3+1,jj*3+2]=-(CA[jj][1]-CA[ii][1])*(CA[jj][2]-CA[ii][2])/distance\n",
    "                matrix[ii*3+2,jj*3+1]=-matrix[ii*3+1,jj*3+2]\n",
    "                \n",
    "               #Faltan los \"super elementos\" de la diagonal \n",
    "                \n",
    "\n",
    "                \n",
    "    return matrix"
   ]
  },
  {
   "cell_type": "code",
   "execution_count": 17,
   "metadata": {
    "colab": {
     "base_uri": "https://localhost:8080/"
    },
    "id": "H7U1Rz2wmETc",
    "outputId": "44282bfa-cf43-4b3b-effa-52077b926771"
   },
   "outputs": [
    {
     "data": {
      "text/plain": [
       "array([[ 0.00000000e+00,  0.00000000e+00,  0.00000000e+00, ...,\n",
       "         0.00000000e+00,  0.00000000e+00,  0.00000000e+00],\n",
       "       [ 0.00000000e+00,  0.00000000e+00,  0.00000000e+00, ...,\n",
       "         0.00000000e+00,  0.00000000e+00,  0.00000000e+00],\n",
       "       [ 0.00000000e+00,  0.00000000e+00,  0.00000000e+00, ...,\n",
       "         0.00000000e+00,  0.00000000e+00,  0.00000000e+00],\n",
       "       ...,\n",
       "       [-2.16558358e-03,  6.65916950e-02, -8.49991554e-02, ...,\n",
       "         0.00000000e+00,  0.00000000e+00,  0.00000000e+00],\n",
       "       [-6.65916950e-02, -2.04769462e+00,  2.61372403e+00, ...,\n",
       "         0.00000000e+00,  0.00000000e+00,  0.00000000e+00],\n",
       "       [ 8.49991554e-02, -2.61372403e+00, -3.33621685e+00, ...,\n",
       "         0.00000000e+00,  0.00000000e+00,  0.00000000e+00]])"
      ]
     },
     "execution_count": 17,
     "metadata": {},
     "output_type": "execute_result"
    }
   ],
   "source": [
    "matrix = anm_matrix(CA_coordinates, 9.0)\n",
    "matrix"
   ]
  },
  {
   "cell_type": "markdown",
   "metadata": {},
   "source": [
    "## Diagonalizing from its eigenvalues"
   ]
  },
  {
   "cell_type": "code",
   "execution_count": 105,
   "metadata": {},
   "outputs": [],
   "source": [
    "evals, evects = eigh(matrix)"
   ]
  },
  {
   "cell_type": "code",
   "execution_count": 106,
   "metadata": {},
   "outputs": [
    {
     "data": {
      "image/png": "[encoded data removed]",
      "text/plain": [
       "<Figure size 432x288 with 1 Axes>"
      ]
     },
     "metadata": {
      "needs_background": "light"
     },
     "output_type": "display_data"
    }
   ],
   "source": [
    "num_modes = evals.shape[0]\n",
    "\n",
    "plt.scatter(range(num_modes), evals)\n",
    "plt.title('Eigenvalues Spectrum')\n",
    "plt.xlabel('Eigenvalue index')\n",
    "plt.show()"
   ]
  },
  {
   "cell_type": "markdown",
   "metadata": {},
   "source": [
    "Ahora los modos normales contienen una componente $x$, $y$ y $z$ para cada CA. ¿Cómo podemos hacer una representación similar a la que hacíamos en el GNM para ver la amplitud participación de cada CA en el modo? ¿Qué tal si representamos algo como $\\sqrt{x_{i}^{2} + y_{i}^{2} + z_{i}^{2}}$ para cada CA de índice $i$ en un mismo modo?"
   ]
  },
  {
   "cell_type": "code",
   "execution_count": 108,
   "metadata": {},
   "outputs": [
    {
     "data": {
      "image/png": "[encoded data removed]",
      "text/plain": [
       "<Figure size 432x288 with 1 Axes>"
      ]
     },
     "metadata": {
      "needs_background": "light"
     },
     "output_type": "display_data"
    }
   ],
   "source": [
    "# Esto viene de GNM y debe ser adaptado para ANM\n",
    "mode_index = 0\n",
    "plt.plot(range(num_modes), evects[:,mode_index])\n",
    "plt.title(f'{mode_index}-th normalized mode')\n",
    "plt.xlabel('CA index')\n",
    "plt.show()"
   ]
  },
  {
   "cell_type": "code",
   "execution_count": null,
   "metadata": {},
   "outputs": [],
   "source": []
  }
 ],
 "metadata": {
  "colab": {
   "collapsed_sections": [],
   "name": "Kirchoff_matrix.ipynb",
   "provenance": [],
   "toc_visible": true
  },
  "kernelspec": {
   "display_name": "Python 3 (ipykernel)",
   "language": "python",
   "name": "python3"
  },
  "language_info": {
   "codemirror_mode": {
    "name": "ipython",
    "version": 3
   },
   "file_extension": ".py",
   "mimetype": "text/x-python",
   "name": "python",
   "nbconvert_exporter": "python",
   "pygments_lexer": "ipython3",
   "version": "3.10.4"
  }
 },
 "nbformat": 4,
 "nbformat_minor": 4
}
