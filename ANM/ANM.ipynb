{
 "cells": [
  {
   "cell_type": "code",
   "execution_count": 98,
   "metadata": {
    "id": "9IW2nHk6lFAn"
   },
   "outputs": [],
   "source": [
    "import numpy as np\n",
    "import requests\n",
    "import os\n",
    "from numpy.linalg import eigh\n",
    "import matplotlib.pyplot as plt\n",
    "import mdtraj as md\n",
    "import nglview as nv\n",
    "from mpl_toolkits.axes_grid1 import make_axes_locatable\n"
   ]
  },
  {
   "cell_type": "markdown",
   "metadata": {
    "id": "wyTN-ZatlFAs"
   },
   "source": [
    "# Working with the Anisotropic Network Model"
   ]
  },
  {
   "cell_type": "markdown",
   "metadata": {
    "id": "iHmTqGWLlFAv"
   },
   "source": [
    "## Downloading any PDB file\n",
    "\n",
    "Let's first of all store the PDB id we want to download and the path where the file needs to be located:"
   ]
  },
  {
   "cell_type": "code",
   "execution_count": 99,
   "metadata": {
    "id": "SBq9QCvelFAw"
   },
   "outputs": [],
   "source": [
    "pdb_id = '1HIV'\n",
    "download_path = \"./\""
   ]
  },
  {
   "cell_type": "markdown",
   "metadata": {
    "id": "ZGlDJEy1lFAx"
   },
   "source": [
    "And now let's define an auxiliary function to download pdb files to be stored locally in our machine."
   ]
  },
  {
   "cell_type": "code",
   "execution_count": 100,
   "metadata": {
    "id": "UtL1UAavlFAz"
   },
   "outputs": [],
   "source": [
    "def fetch_pdb(pdb_id, download_path=\"./\"):\n",
    "        url = 'http://files.rcsb.org/download/{}.pdb'.format(pdb_id)\n",
    "        try:\n",
    "            res = requests.get(url, allow_redirects=True)\n",
    "        except:\n",
    "            print(\"Could not fetch pdb from {}\".format(url))\n",
    "            return \n",
    "        \n",
    "        file_path = os.path.join(download_path, pdb_id + \".pdb\")\n",
    "        with open(file_path, \"wb\") as f:\n",
    "            f.write(res.content)\n",
    "        print(f\"The {pdb_id} file was downloaded succesfully!\")"
   ]
  },
  {
   "cell_type": "markdown",
   "metadata": {
    "id": "M57wYbIglFA0"
   },
   "source": [
    "Time to try it!"
   ]
  },
  {
   "cell_type": "code",
   "execution_count": 101,
   "metadata": {
    "colab": {
     "base_uri": "https://localhost:8080/"
    },
    "id": "kZNqSmJ_lFA1",
    "outputId": "f061da89-3fee-4529-bcca-3fe54d007bb2"
   },
   "outputs": [
    {
     "name": "stdout",
     "output_type": "stream",
     "text": [
      "The 1HIV file was downloaded succesfully!\n"
     ]
    }
   ],
   "source": [
    "fetch_pdb(pdb_id, download_path=download_path)"
   ]
  },
  {
   "cell_type": "markdown",
   "metadata": {
    "id": "HHla4c3KlFA2"
   },
   "source": [
    "## Parsing the positions of the CA atoms\n",
    "\n",
    "We are going take an approach not very short and efficient to obtain the coordinates of the CA atoms. But let's do it this way just once:"
   ]
  },
  {
   "cell_type": "code",
   "execution_count": 102,
   "metadata": {
    "id": "P4vnOMKKlFA3"
   },
   "outputs": [],
   "source": [
    "file_path = os.path.join(download_path, pdb_id + \".pdb\")\n",
    "\n",
    "CA_coordinates = []\n",
    "\n",
    "with open(file_path) as fff:\n",
    "    for line in fff.readlines():\n",
    "        if (line.startswith('ATOM  ') or line.startswith('HETATM')):\n",
    "            if line.split()[2]=='CA' and line.split()[3]!='1ZK' :\n",
    "                x, y, z = line.split()[6:9]\n",
    "                CA_coordinates.append([float(x), float(y), float(z)])"
   ]
  },
  {
   "cell_type": "markdown",
   "metadata": {
    "id": "9PeYmfgWlFA4"
   },
   "source": [
    "Ok, `CA_coordinates` is a list of lists... let's convert it to a numpy array:"
   ]
  },
  {
   "cell_type": "code",
   "execution_count": 103,
   "metadata": {
    "id": "aYCi7ZRvlFA4"
   },
   "outputs": [],
   "source": [
    "CA_coordinates = np.array(CA_coordinates)"
   ]
  },
  {
   "cell_type": "code",
   "execution_count": 104,
   "metadata": {
    "colab": {
     "base_uri": "https://localhost:8080/"
    },
    "id": "OKk3YwESn7mn",
    "outputId": "ce2cc824-8d8c-4601-9633-f5a4340afd95"
   },
   "outputs": [
    {
     "data": {
      "text/plain": [
       "198"
      ]
     },
     "execution_count": 104,
     "metadata": {},
     "output_type": "execute_result"
    }
   ],
   "source": [
    "#Alpha carbon number\n",
    "len(CA_coordinates)"
   ]
  },
  {
   "cell_type": "markdown",
   "metadata": {
    "id": "dp0YgOxpvj-Q"
   },
   "source": [
    "## Defining the equivalent Hessian matrix of the elastic 3D model"
   ]
  },
  {
   "cell_type": "code",
   "execution_count": 105,
   "metadata": {
    "id": "Gzv73WPtlXkH"
   },
   "outputs": [],
   "source": [
    "def anm_matrix(CA, threshold, force_constant):\n",
    "    \n",
    "    num_CAs = CA.shape[0]\n",
    "    threshold2 = threshold**2\n",
    "    \n",
    "    matrix = np.zeros((3*num_CAs, 3*num_CAs), dtype=float)\n",
    "    \n",
    "    \n",
    "    \n",
    "    for ii in range(num_CAs):\n",
    "        \n",
    "        iii = ii*3\n",
    "        \n",
    "        for jj in range(ii):\n",
    "            \n",
    "            jjj = jj*3\n",
    "            \n",
    "            rij=CA[ii]-CA[jj]\n",
    "            distance2=np.dot(rij, rij)\n",
    "                \n",
    "            if distance2<threshold2:\n",
    "                    \n",
    "                for kk in range(3):\n",
    "                    for gg in range(3):\n",
    "                        \n",
    "                        val_aux = -(CA[jj][kk]-CA[ii][kk])*(CA[jj][gg]-CA[ii][gg])/distance2\n",
    "                        \n",
    "                        ## Sub matrix Hij\n",
    "                        matrix[iii+kk,jjj+gg]=val_aux\n",
    "                        matrix[jjj+gg,iii+kk]=val_aux\n",
    "                        \n",
    "                        #Submatrix Hii:\n",
    "                        matrix[iii+kk,iii+gg]-=val_aux\n",
    "                        matrix[jjj+gg,jjj+kk]-=val_aux\n",
    "                        \n",
    "    return force_constant*matrix"
   ]
  },
  {
   "cell_type": "code",
   "execution_count": 106,
   "metadata": {},
   "outputs": [
    {
     "data": {
      "text/plain": [
       "array([[ 7.29293405e-01, -1.01412867e-01, -3.43560184e-01, ...,\n",
       "        -1.20621199e-04,  3.70910187e-03, -4.73438207e-03],\n",
       "       [-1.01412867e-01,  2.79235438e-01, -1.63495356e-01, ...,\n",
       "         3.70910187e-03, -1.14054883e-01,  1.45582249e-01],\n",
       "       [-3.43560184e-01, -1.63495356e-01,  4.91471157e-01, ...,\n",
       "        -4.73438207e-03,  1.45582249e-01, -1.85824496e-01],\n",
       "       ...,\n",
       "       [-1.20621199e-04,  3.70910187e-03, -4.73438207e-03, ...,\n",
       "         1.00132791e+00, -4.24443555e-01,  1.18854349e-01],\n",
       "       [ 3.70910187e-03, -1.14054883e-01,  1.45582249e-01, ...,\n",
       "        -4.24443555e-01,  6.45670572e-01, -5.11136085e-01],\n",
       "       [-4.73438207e-03,  1.45582249e-01, -1.85824496e-01, ...,\n",
       "         1.18854349e-01, -5.11136085e-01,  1.35300152e+00]])"
      ]
     },
     "execution_count": 106,
     "metadata": {},
     "output_type": "execute_result"
    }
   ],
   "source": [
    "matrix = anm_matrix(CA_coordinates, 9.0, 0.3)\n",
    "matrix"
   ]
  },
  {
   "cell_type": "markdown",
   "metadata": {},
   "source": [
    "## Diagonalizing from its eigenvalues"
   ]
  },
  {
   "cell_type": "code",
   "execution_count": 107,
   "metadata": {},
   "outputs": [],
   "source": [
    "evals, evects = eigh(matrix)\n"
   ]
  },
  {
   "cell_type": "code",
   "execution_count": 109,
   "metadata": {},
   "outputs": [
    {
     "data": {
      "image/png": "[encoded data removed]",
      "text/plain": [
       "<Figure size 432x288 with 1 Axes>"
      ]
     },
     "metadata": {
      "needs_background": "light"
     },
     "output_type": "display_data"
    }
   ],
   "source": [
    "num_modes = evals.shape[0]\n",
    "\n",
    "\n",
    "plt.scatter(range(num_modes), evals)\n",
    "plt.title('Eigenvalues Spectrum')\n",
    "plt.xlabel('Eigenvalue index')\n",
    "plt.show()"
   ]
  },
  {
   "cell_type": "markdown",
   "metadata": {},
   "source": [
    "Ahora los modos normales contienen una componente $x$, $y$ y $z$ para cada CA. ¿Cómo podemos hacer una representación similar a la que hacíamos en el GNM para ver la amplitud participación de cada CA en el modo? ¿Qué tal si representamos algo como $\\sqrt{x_{i}^{2} + y_{i}^{2} + z_{i}^{2}}$ para cada CA de índice $i$ en un mismo modo?"
   ]
  },
  {
   "cell_type": "code",
   "execution_count": 110,
   "metadata": {},
   "outputs": [],
   "source": [
    "sum_evects= np.array([np.sqrt(sum(evects[i:i+3,:]**2)) for i in range(0, len(evects), 3)])"
   ]
  },
  {
   "cell_type": "code",
   "execution_count": 111,
   "metadata": {},
   "outputs": [
    {
     "data": {
      "image/png": "[encoded data removed]",
      "text/plain": [
       "<Figure size 432x288 with 1 Axes>"
      ]
     },
     "metadata": {
      "needs_background": "light"
     },
     "output_type": "display_data"
    }
   ],
   "source": [
    "mode_index = 6\n",
    "plt.plot(range(len(CA_coordinates)), sum_evects[:,mode_index])\n",
    "plt.title(f'{mode_index}-th normalized mode')\n",
    "plt.xlabel('CA index')\n",
    "plt.show()"
   ]
  },
  {
   "cell_type": "markdown",
   "metadata": {},
   "source": [
    "## Inverse using the 3N-6 non-zero eigenvalues"
   ]
  },
  {
   "cell_type": "code",
   "execution_count": 112,
   "metadata": {},
   "outputs": [],
   "source": [
    "#Removing 0 eigenvalue and corresponding eigenvector\n",
    "evals_new=np.delete(evals,[0,1,2,3,4,5])\n",
    "evects_new=np.delete(evects,[0,1,2,3,4,5],1)"
   ]
  },
  {
   "cell_type": "code",
   "execution_count": 113,
   "metadata": {},
   "outputs": [],
   "source": [
    "#Defining the diagonalized matrix of eigenvalues\n",
    "D=np.diag(evals_new)"
   ]
  },
  {
   "cell_type": "code",
   "execution_count": 114,
   "metadata": {},
   "outputs": [],
   "source": [
    "#Defining invertible Kirchhoff matrix\n",
    "matrix_inv=np.matmul(evects_new, np.matmul(np.linalg.inv(D),np.transpose(evects_new)))"
   ]
  },
  {
   "cell_type": "code",
   "execution_count": 120,
   "metadata": {},
   "outputs": [],
   "source": [
    "#Defining the B factors\n",
    "B_Theory=[np.trace(matrix_inv[ii*3:ii*3+3,ii*3:ii*3+3]) for ii in range(len(CA_coordinates))]"
   ]
  },
  {
   "cell_type": "code",
   "execution_count": 121,
   "metadata": {},
   "outputs": [],
   "source": [
    "#Reading B factors from PDB\n",
    "B_exp=[]\n",
    "with open(file_path) as fff:\n",
    "    for line in fff.readlines():\n",
    "        if (line.startswith('ATOM  ') or line.startswith('HETATM')):\n",
    "            if line.split()[2]=='CA' and line.split()[3]!='1ZK' :\n",
    "            \n",
    "                Bi = line.split()[10]\n",
    "                B_exp.append(float(Bi))"
   ]
  },
  {
   "cell_type": "code",
   "execution_count": 122,
   "metadata": {},
   "outputs": [
    {
     "data": {
      "image/png": "[encoded data removed]",
      "text/plain": [
       "<Figure size 432x288 with 1 Axes>"
      ]
     },
     "metadata": {
      "needs_background": "light"
     },
     "output_type": "display_data"
    }
   ],
   "source": [
    "#Plotting Theory vs experiment\n",
    "plt.plot(range(len(CA_coordinates)), B_Theory,c='red',label = 'Theory')\n",
    "plt.plot(range(len(CA_coordinates)), B_exp,c='blue',label='Experiment')\n",
    "plt.title('B factor')\n",
    "plt.xlabel('Residue index')\n",
    "plt.legend()\n",
    "plt.show()"
   ]
  },
  {
   "cell_type": "markdown",
   "metadata": {},
   "source": [
    "## Correlation matrix"
   ]
  },
  {
   "cell_type": "code",
   "execution_count": 123,
   "metadata": {},
   "outputs": [],
   "source": [
    "Corr_Matrix=np.zeros((len(CA_coordinates),len(CA_coordinates)))\n",
    "for ii in range(len(CA_coordinates)):\n",
    "    for jj in range(len(CA_coordinates)):\n",
    "        Corr_Matrix[ii,jj]=np.trace(matrix_inv[ii*3:ii*3+3,jj*3:jj*3+3])"
   ]
  },
  {
   "cell_type": "code",
   "execution_count": 124,
   "metadata": {},
   "outputs": [
    {
     "data": {
      "image/png": "[encoded data removed]",
      "text/plain": [
       "<Figure size 432x288 with 2 Axes>"
      ]
     },
     "metadata": {
      "needs_background": "light"
     },
     "output_type": "display_data"
    }
   ],
   "source": [
    "ax = plt.subplot()\n",
    "im = ax.imshow(Corr_Matrix,cmap='Blues')\n",
    "divider = make_axes_locatable(ax)\n",
    "cax = divider.append_axes(\"right\", size=\"5%\", pad=0.05)\n",
    "plt.colorbar(im, cax=cax)\n",
    "\n",
    "plt.show()"
   ]
  },
  {
   "cell_type": "code",
   "execution_count": null,
   "metadata": {},
   "outputs": [],
   "source": []
  }
 ],
 "metadata": {
  "colab": {
   "collapsed_sections": [],
   "name": "Kirchoff_matrix.ipynb",
   "provenance": [],
   "toc_visible": true
  },
  "kernelspec": {
   "display_name": "Python 3 (ipykernel)",
   "language": "python",
   "name": "python3"
  },
  "language_info": {
   "codemirror_mode": {
    "name": "ipython",
    "version": 3
   },
   "file_extension": ".py",
   "mimetype": "text/x-python",
   "name": "python",
   "nbconvert_exporter": "python",
   "pygments_lexer": "ipython3",
   "version": "3.8.12"
  }
 },
 "nbformat": 4,
 "nbformat_minor": 4
}
