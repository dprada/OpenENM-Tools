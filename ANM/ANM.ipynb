{
 "cells": [
  {
   "cell_type": "code",
   "execution_count": 113,
   "metadata": {
    "id": "9IW2nHk6lFAn"
   },
   "outputs": [],
   "source": [
    "import numpy as np\n",
    "import requests\n",
    "import os\n",
    "from numpy.linalg import eigh\n",
    "import matplotlib.pyplot as plt\n",
    "import mdtraj as md\n",
    "import nglview as nv\n",
    "from mpl_toolkits.axes_grid1 import make_axes_locatable\n"
   ]
  },
  {
   "cell_type": "markdown",
   "metadata": {
    "id": "wyTN-ZatlFAs"
   },
   "source": [
    "# Working with the Anisotropic Network Model"
   ]
  },
  {
   "cell_type": "markdown",
   "metadata": {
    "id": "iHmTqGWLlFAv"
   },
   "source": [
    "## Downloading any PDB file\n",
    "\n",
    "Let's first of all store the PDB id we want to download and the path where the file needs to be located:"
   ]
  },
  {
   "cell_type": "code",
   "execution_count": 114,
   "metadata": {
    "id": "SBq9QCvelFAw"
   },
   "outputs": [],
   "source": [
    "pdb_id = '1HIV'\n",
    "download_path = \"./\""
   ]
  },
  {
   "cell_type": "markdown",
   "metadata": {
    "id": "ZGlDJEy1lFAx"
   },
   "source": [
    "And now let's define an auxiliary function to download pdb files to be stored locally in our machine."
   ]
  },
  {
   "cell_type": "code",
   "execution_count": 115,
   "metadata": {
    "id": "UtL1UAavlFAz"
   },
   "outputs": [],
   "source": [
    "def fetch_pdb(pdb_id, download_path=\"./\"):\n",
    "        url = 'http://files.rcsb.org/download/{}.pdb'.format(pdb_id)\n",
    "        try:\n",
    "            res = requests.get(url, allow_redirects=True)\n",
    "        except:\n",
    "            print(\"Could not fetch pdb from {}\".format(url))\n",
    "            return \n",
    "        \n",
    "        file_path = os.path.join(download_path, pdb_id + \".pdb\")\n",
    "        with open(file_path, \"wb\") as f:\n",
    "            f.write(res.content)\n",
    "        print(f\"The {pdb_id} file was downloaded succesfully!\")"
   ]
  },
  {
   "cell_type": "markdown",
   "metadata": {
    "id": "M57wYbIglFA0"
   },
   "source": [
    "Time to try it!"
   ]
  },
  {
   "cell_type": "code",
   "execution_count": 116,
   "metadata": {
    "colab": {
     "base_uri": "https://localhost:8080/"
    },
    "id": "kZNqSmJ_lFA1",
    "outputId": "f061da89-3fee-4529-bcca-3fe54d007bb2"
   },
   "outputs": [
    {
     "name": "stdout",
     "output_type": "stream",
     "text": [
      "The 1HIV file was downloaded succesfully!\n"
     ]
    }
   ],
   "source": [
    "fetch_pdb(pdb_id, download_path=download_path)"
   ]
  },
  {
   "cell_type": "markdown",
   "metadata": {
    "id": "HHla4c3KlFA2"
   },
   "source": [
    "## Parsing the positions of the CA atoms\n",
    "\n",
    "We are going take an approach not very short and efficient to obtain the coordinates of the CA atoms. But let's do it this way just once:"
   ]
  },
  {
   "cell_type": "code",
   "execution_count": 117,
   "metadata": {
    "id": "P4vnOMKKlFA3"
   },
   "outputs": [],
   "source": [
    "file_path = os.path.join(download_path, pdb_id + \".pdb\")\n",
    "\n",
    "CA_coordinates = []\n",
    "\n",
    "with open(file_path) as fff:\n",
    "    for line in fff.readlines():\n",
    "        if line.startswith('ATOM  ') and line.split()[2]=='CA' :\n",
    "          \n",
    "            x, y, z = line.split()[6:9]\n",
    "            CA_coordinates.append([float(x), float(y), float(z)])"
   ]
  },
  {
   "cell_type": "markdown",
   "metadata": {
    "id": "9PeYmfgWlFA4"
   },
   "source": [
    "Ok, `CA_coordinates` is a list of lists... let's convert it to a numpy array:"
   ]
  },
  {
   "cell_type": "code",
   "execution_count": 118,
   "metadata": {
    "id": "aYCi7ZRvlFA4"
   },
   "outputs": [],
   "source": [
    "CA_coordinates = np.array(CA_coordinates)"
   ]
  },
  {
   "cell_type": "code",
   "execution_count": 119,
   "metadata": {
    "colab": {
     "base_uri": "https://localhost:8080/"
    },
    "id": "OKk3YwESn7mn",
    "outputId": "ce2cc824-8d8c-4601-9633-f5a4340afd95"
   },
   "outputs": [
    {
     "data": {
      "text/plain": [
       "196"
      ]
     },
     "execution_count": 119,
     "metadata": {},
     "output_type": "execute_result"
    }
   ],
   "source": [
    "#Alpha carbon number\n",
    "len(CA_coordinates)"
   ]
  },
  {
   "cell_type": "markdown",
   "metadata": {
    "id": "dp0YgOxpvj-Q"
   },
   "source": [
    "## Defining the equivalent Hessian matrix of the elastic 3D model"
   ]
  },
  {
   "cell_type": "code",
   "execution_count": 136,
   "metadata": {
    "id": "Gzv73WPtlXkH"
   },
   "outputs": [],
   "source": [
    "def anm_matrix(CA, threshold,force_constant):\n",
    "    \n",
    "    num_CAs = CA.shape[0]\n",
    "    threshold2 = threshold**2\n",
    "    \n",
    "    matrix = np.zeros((3*num_CAs, 3*num_CAs), dtype=float)\n",
    "    \n",
    "    \n",
    "    \n",
    "    for ii in range(num_CAs):\n",
    "        for jj in range(ii):\n",
    "                \n",
    "            rij=CA[ii]-CA[jj]\n",
    "            distance2=np.dot(rij, rij)\n",
    "                \n",
    "            if distance2<threshold2:\n",
    "                    \n",
    "                for kk in range(3):\n",
    "                    for gg in range(3):\n",
    "                        \n",
    "                        val_aux = -(CA[jj][kk]-CA[ii][kk])*(CA[jj][gg]-CA[ii][gg])/distance2\n",
    "                        \n",
    "                        ## Sub matrix Hij\n",
    "                        matrix[ii*3+kk,jj*3+gg]=val_aux \n",
    "                        matrix[jj*3+kk,ii*3+gg]=val_aux\n",
    "                        \n",
    "                        #Submatrix Hii:\n",
    "                        matrix[ii*3+kk,ii*3+gg]-=val_aux\n",
    "                        \n",
    "    return force_constant*matrix"
   ]
  },
  {
   "cell_type": "code",
   "execution_count": 137,
   "metadata": {},
   "outputs": [
    {
     "data": {
      "text/plain": [
       "array([[ 9.79765500e-01, -1.40713785e-01, -4.96944594e-03],\n",
       "       [-1.40713785e-01,  2.02092943e-02,  7.13711137e-04],\n",
       "       [-4.96944594e-03,  7.13711137e-04,  2.52054119e-05]])"
      ]
     },
     "execution_count": 137,
     "metadata": {},
     "output_type": "execute_result"
    }
   ],
   "source": [
    "matrix = anm_matrix(CA_coordinates, 9.0,1)\n",
    "matrix[3:6,3:6]"
   ]
  },
  {
   "cell_type": "markdown",
   "metadata": {},
   "source": [
    "## Diagonalizing from its eigenvalues"
   ]
  },
  {
   "cell_type": "code",
   "execution_count": 138,
   "metadata": {},
   "outputs": [],
   "source": [
    "evals, evects = eigh(matrix)"
   ]
  },
  {
   "cell_type": "code",
   "execution_count": 141,
   "metadata": {},
   "outputs": [
    {
     "data": {
      "text/plain": [
       "array([-3.57704456e+00, -3.09886874e+00, -3.08233766e+00, -3.01018070e+00,\n",
       "       -2.84809885e+00, -2.80949771e+00, -2.78251298e+00, -2.72047123e+00,\n",
       "       -2.69001544e+00, -2.65884693e+00, -2.62026153e+00, -2.53294022e+00,\n",
       "       -2.50954512e+00, -2.43965788e+00, -2.41594299e+00, -2.35584895e+00,\n",
       "       -2.33706418e+00, -2.29678075e+00, -2.24947921e+00, -2.22699788e+00,\n",
       "       -2.18705445e+00, -2.14265979e+00, -2.10181409e+00, -2.06880529e+00,\n",
       "       -2.04119481e+00, -2.03842238e+00, -1.99225667e+00, -1.94299450e+00,\n",
       "       -1.91392085e+00, -1.88957168e+00, -1.85622076e+00, -1.80566727e+00,\n",
       "       -1.78622928e+00, -1.74359674e+00, -1.70396311e+00, -1.69336952e+00,\n",
       "       -1.65759270e+00, -1.63462967e+00, -1.62194517e+00, -1.61183571e+00,\n",
       "       -1.51920540e+00, -1.49476685e+00, -1.46285710e+00, -1.45079600e+00,\n",
       "       -1.42734820e+00, -1.36996078e+00, -1.35057199e+00, -1.34530605e+00,\n",
       "       -1.32622728e+00, -1.28914283e+00, -1.26007012e+00, -1.24636072e+00,\n",
       "       -1.19922076e+00, -1.19013933e+00, -1.15437954e+00, -1.13657596e+00,\n",
       "       -1.13365962e+00, -1.11040186e+00, -1.08703994e+00, -1.07031140e+00,\n",
       "       -1.04482209e+00, -1.04036399e+00, -1.00233886e+00, -9.65859619e-01,\n",
       "       -9.60715708e-01, -9.36529618e-01, -9.19555539e-01, -9.09906545e-01,\n",
       "       -8.89467569e-01, -8.84789909e-01, -8.69254678e-01, -8.30274643e-01,\n",
       "       -8.24927149e-01, -8.10724739e-01, -7.97966432e-01, -7.83444127e-01,\n",
       "       -7.68554660e-01, -7.36904823e-01, -7.31674325e-01, -7.17740623e-01,\n",
       "       -7.01873069e-01, -6.87705637e-01, -6.63379293e-01, -6.54548512e-01,\n",
       "       -6.45421684e-01, -6.23002768e-01, -6.13509379e-01, -6.00117587e-01,\n",
       "       -5.85684946e-01, -5.69657409e-01, -5.58955866e-01, -5.51694620e-01,\n",
       "       -5.39179857e-01, -5.29965283e-01, -5.13506389e-01, -5.07876901e-01,\n",
       "       -4.92876857e-01, -4.72087055e-01, -4.66774559e-01, -4.58252490e-01,\n",
       "       -4.48331125e-01, -4.39117831e-01, -4.27448722e-01, -4.17527559e-01,\n",
       "       -4.16514497e-01, -4.02262299e-01, -3.94934235e-01, -3.78180589e-01,\n",
       "       -3.66914159e-01, -3.60795449e-01, -3.50306767e-01, -3.42688301e-01,\n",
       "       -3.34880631e-01, -3.26497653e-01, -3.13266032e-01, -3.04596536e-01,\n",
       "       -2.84665381e-01, -2.83500526e-01, -2.74597120e-01, -2.60775334e-01,\n",
       "       -2.57046636e-01, -2.36871376e-01, -2.30939006e-01, -2.29481398e-01,\n",
       "       -2.07456005e-01, -2.00482893e-01, -1.80310213e-01, -1.79627379e-01,\n",
       "       -1.73345215e-01, -1.62224122e-01, -1.54105966e-01, -1.49540147e-01,\n",
       "       -1.42278545e-01, -1.36963517e-01, -1.25338144e-01, -1.17110555e-01,\n",
       "       -1.07241680e-01, -1.06641373e-01, -9.14748715e-02, -8.73545789e-02,\n",
       "       -8.63537000e-02, -7.55752598e-02, -6.34364249e-02, -5.75964755e-02,\n",
       "       -5.11696417e-02, -4.15100991e-02, -3.73047486e-02, -2.90556435e-02,\n",
       "       -1.98928139e-02, -9.07255634e-03,  2.13559012e-03,  7.96325960e-03,\n",
       "        1.04456313e-02,  1.60791780e-02,  2.10030273e-02,  3.31480403e-02,\n",
       "        4.14364792e-02,  4.25993145e-02,  4.57477641e-02,  5.01141327e-02,\n",
       "        5.14224846e-02,  6.34677103e-02,  6.85280837e-02,  7.82571055e-02,\n",
       "        7.91920435e-02,  8.45394277e-02,  9.77692091e-02,  1.05693796e-01,\n",
       "        1.19927897e-01,  1.26970819e-01,  1.32581492e-01,  1.44777580e-01,\n",
       "        1.50677940e-01,  1.54044372e-01,  1.67410702e-01,  1.74125076e-01,\n",
       "        1.84897157e-01,  1.94073814e-01,  1.99946558e-01,  2.05359227e-01,\n",
       "        2.15975731e-01,  2.30040054e-01,  2.37031441e-01,  2.46394057e-01,\n",
       "        2.56723115e-01,  2.61090742e-01,  2.72844353e-01,  2.80505146e-01,\n",
       "        2.90760270e-01,  2.95310044e-01,  3.02661535e-01,  3.17392233e-01,\n",
       "        3.30966773e-01,  3.39792931e-01,  3.53396213e-01,  3.74970137e-01,\n",
       "        3.84326135e-01,  3.97512207e-01,  4.04474285e-01,  4.18983172e-01,\n",
       "        4.29096799e-01,  4.36311990e-01,  4.52317555e-01,  4.65698217e-01,\n",
       "        4.78630141e-01,  4.86004017e-01,  5.02098154e-01,  5.12405223e-01,\n",
       "        5.20862637e-01,  5.31825104e-01,  5.41027141e-01,  5.64578209e-01,\n",
       "        5.91719515e-01,  5.95992689e-01,  6.00789470e-01,  6.04101819e-01,\n",
       "        6.27983331e-01,  6.33663643e-01,  6.59690041e-01,  6.67268786e-01,\n",
       "        6.81962216e-01,  7.00948310e-01,  7.15295896e-01,  7.22877033e-01,\n",
       "        7.38095295e-01,  7.55269970e-01,  7.62870869e-01,  7.69090166e-01,\n",
       "        7.89998631e-01,  7.93158553e-01,  8.02953138e-01,  8.18216165e-01,\n",
       "        8.45907849e-01,  8.58206623e-01,  8.74317965e-01,  8.83003736e-01,\n",
       "        8.93659840e-01,  9.10581746e-01,  9.18009992e-01,  9.26539526e-01,\n",
       "        9.36007907e-01,  9.44293617e-01,  9.65654730e-01,  9.75357191e-01,\n",
       "        9.80051569e-01,  9.96346533e-01,  1.00122241e+00,  1.02779957e+00,\n",
       "        1.04179424e+00,  1.05500735e+00,  1.06701583e+00,  1.07484377e+00,\n",
       "        1.09972149e+00,  1.10841233e+00,  1.12732829e+00,  1.15258719e+00,\n",
       "        1.15828227e+00,  1.18246572e+00,  1.18535790e+00,  1.19124949e+00,\n",
       "        1.20465356e+00,  1.22389421e+00,  1.23820561e+00,  1.24642019e+00,\n",
       "        1.25467155e+00,  1.27747184e+00,  1.28953695e+00,  1.29782251e+00,\n",
       "        1.32355398e+00,  1.33350921e+00,  1.35535285e+00,  1.36338486e+00,\n",
       "        1.37613551e+00,  1.39163943e+00,  1.40232963e+00,  1.43455915e+00,\n",
       "        1.44020692e+00,  1.44645734e+00,  1.46980858e+00,  1.48484748e+00,\n",
       "        1.49288787e+00,  1.52080170e+00,  1.53635150e+00,  1.55044375e+00,\n",
       "        1.56248546e+00,  1.57317154e+00,  1.58925755e+00,  1.59884309e+00,\n",
       "        1.63172215e+00,  1.64596471e+00,  1.66833213e+00,  1.68658837e+00,\n",
       "        1.69215125e+00,  1.72353401e+00,  1.73721630e+00,  1.74530677e+00,\n",
       "        1.75042919e+00,  1.76968582e+00,  1.78148489e+00,  1.80148945e+00,\n",
       "        1.81019360e+00,  1.81808921e+00,  1.84500151e+00,  1.85540662e+00,\n",
       "        1.87937011e+00,  1.88467645e+00,  1.89735295e+00,  1.91083214e+00,\n",
       "        1.93112909e+00,  1.93563790e+00,  1.94628791e+00,  1.96454897e+00,\n",
       "        1.98668722e+00,  1.99573738e+00,  2.01557106e+00,  2.03103104e+00,\n",
       "        2.03314533e+00,  2.04708765e+00,  2.06805144e+00,  2.07685622e+00,\n",
       "        2.08991130e+00,  2.10647603e+00,  2.11489119e+00,  2.13655354e+00,\n",
       "        2.14170785e+00,  2.16106234e+00,  2.17563692e+00,  2.18851472e+00,\n",
       "        2.20005430e+00,  2.22197234e+00,  2.23295561e+00,  2.24391001e+00,\n",
       "        2.25510008e+00,  2.25825730e+00,  2.27370759e+00,  2.27455814e+00,\n",
       "        2.30805454e+00,  2.31885317e+00,  2.33931760e+00,  2.35620980e+00,\n",
       "        2.36774514e+00,  2.37684184e+00,  2.39444016e+00,  2.40177938e+00,\n",
       "        2.42471932e+00,  2.43207705e+00,  2.43722749e+00,  2.45275257e+00,\n",
       "        2.48020568e+00,  2.48611025e+00,  2.49518276e+00,  2.50954535e+00,\n",
       "        2.52895975e+00,  2.55083078e+00,  2.56930777e+00,  2.58194075e+00,\n",
       "        2.58563119e+00,  2.60743202e+00,  2.61670625e+00,  2.62511798e+00,\n",
       "        2.64006886e+00,  2.64463556e+00,  2.65416535e+00,  2.68352869e+00,\n",
       "        2.69556769e+00,  2.71083901e+00,  2.73037883e+00,  2.74602594e+00,\n",
       "        2.75191173e+00,  2.77363255e+00,  2.78344916e+00,  2.79160420e+00,\n",
       "        2.80898743e+00,  2.81762706e+00,  2.82594367e+00,  2.85074108e+00,\n",
       "        2.86623549e+00,  2.88135530e+00,  2.88771306e+00,  2.89561282e+00,\n",
       "        2.91291692e+00,  2.93122841e+00,  2.93965283e+00,  2.95065424e+00,\n",
       "        2.96144244e+00,  2.96849232e+00,  2.99238093e+00,  3.00219994e+00,\n",
       "        3.02978340e+00,  3.04311044e+00,  3.05419644e+00,  3.07932358e+00,\n",
       "        3.08667650e+00,  3.09118860e+00,  3.10280799e+00,  3.10825680e+00,\n",
       "        3.13448628e+00,  3.15659624e+00,  3.16876654e+00,  3.19149761e+00,\n",
       "        3.19666585e+00,  3.21935225e+00,  3.23250928e+00,  3.23918548e+00,\n",
       "        3.24766129e+00,  3.28125514e+00,  3.28586180e+00,  3.29653802e+00,\n",
       "        3.30809499e+00,  3.32395913e+00,  3.33395133e+00,  3.35437478e+00,\n",
       "        3.36065402e+00,  3.38214857e+00,  3.39399503e+00,  3.39734602e+00,\n",
       "        3.44251140e+00,  3.45575733e+00,  3.48219996e+00,  3.49408423e+00,\n",
       "        3.52130679e+00,  3.53642304e+00,  3.54558336e+00,  3.56683659e+00,\n",
       "        3.59099990e+00,  3.59416637e+00,  3.62609479e+00,  3.63108398e+00,\n",
       "        3.66955376e+00,  3.67288619e+00,  3.68547247e+00,  3.70168036e+00,\n",
       "        3.72087226e+00,  3.72582016e+00,  3.75740159e+00,  3.78494279e+00,\n",
       "        3.81599752e+00,  3.81971623e+00,  3.82752228e+00,  3.83846849e+00,\n",
       "        3.85445456e+00,  3.88725235e+00,  3.90390126e+00,  3.91047671e+00,\n",
       "        3.94965364e+00,  3.95620177e+00,  3.96379065e+00,  3.99209956e+00,\n",
       "        4.00796713e+00,  4.01932924e+00,  4.05060813e+00,  4.07582831e+00,\n",
       "        4.10109184e+00,  4.11773631e+00,  4.13649648e+00,  4.16525204e+00,\n",
       "        4.18923370e+00,  4.20001678e+00,  4.22505323e+00,  4.23836098e+00,\n",
       "        4.25240326e+00,  4.27937095e+00,  4.29613933e+00,  4.31831728e+00,\n",
       "        4.34038993e+00,  4.36684680e+00,  4.37619447e+00,  4.38469577e+00,\n",
       "        4.46671627e+00,  4.47560146e+00,  4.48884626e+00,  4.50467569e+00,\n",
       "        4.52648908e+00,  4.54246805e+00,  4.58635667e+00,  4.60351829e+00,\n",
       "        4.60964934e+00,  4.62776640e+00,  4.64741648e+00,  4.68004028e+00,\n",
       "        4.71138960e+00,  4.73230279e+00,  4.76810416e+00,  4.78263718e+00,\n",
       "        4.79031546e+00,  4.81480791e+00,  4.83963257e+00,  4.85423155e+00,\n",
       "        4.87817007e+00,  4.89754226e+00,  4.95414122e+00,  4.97003650e+00,\n",
       "        4.99999646e+00,  5.04327963e+00,  5.07228400e+00,  5.09243975e+00,\n",
       "        5.16133254e+00,  5.17642563e+00,  5.19598151e+00,  5.22125588e+00,\n",
       "        5.25009807e+00,  5.26817148e+00,  5.28764171e+00,  5.31913220e+00,\n",
       "        5.33015395e+00,  5.36329846e+00,  5.37035524e+00,  5.41645707e+00,\n",
       "        5.43169744e+00,  5.46599065e+00,  5.48428769e+00,  5.50799568e+00,\n",
       "        5.56505215e+00,  5.58700230e+00,  5.61964206e+00,  5.63844870e+00,\n",
       "        5.66263552e+00,  5.70003609e+00,  5.70301577e+00,  5.76032122e+00,\n",
       "        5.79991896e+00,  5.82624877e+00,  5.86133984e+00,  5.88886339e+00,\n",
       "        5.90955292e+00,  5.91706378e+00,  5.93899297e+00,  5.94656592e+00,\n",
       "        5.99422841e+00,  6.03989289e+00,  6.07035009e+00,  6.11126017e+00,\n",
       "        6.12307035e+00,  6.16752348e+00,  6.18002250e+00,  6.21977559e+00,\n",
       "        6.24141210e+00,  6.27694179e+00,  6.31578086e+00,  6.36633394e+00,\n",
       "        6.37728361e+00,  6.41232913e+00,  6.44092173e+00,  6.44518863e+00,\n",
       "        6.55118764e+00,  6.60526782e+00,  6.62232528e+00,  6.63436017e+00,\n",
       "        6.65795749e+00,  6.68033092e+00,  6.72178626e+00,  6.75968506e+00,\n",
       "        6.80477268e+00,  6.83675478e+00,  6.91739013e+00,  6.95752172e+00,\n",
       "        6.97659967e+00,  7.02913678e+00,  7.05183404e+00,  7.06486697e+00,\n",
       "        7.10709377e+00,  7.18805599e+00,  7.28375751e+00,  7.33008818e+00,\n",
       "        7.41564618e+00,  7.47191922e+00,  7.54288862e+00,  7.57078697e+00,\n",
       "        7.68103700e+00,  7.74129315e+00,  7.79058793e+00,  7.99302345e+00,\n",
       "        8.05987251e+00,  8.12031721e+00,  8.16659400e+00,  8.26339668e+00,\n",
       "        8.36886379e+00,  8.38436338e+00,  8.45490967e+00,  8.50159529e+00,\n",
       "        8.54336690e+00,  8.62179350e+00,  8.67215432e+00,  8.83250962e+00,\n",
       "        8.96238501e+00,  9.01727762e+00,  9.33190684e+00,  9.61690668e+00])"
      ]
     },
     "execution_count": 141,
     "metadata": {},
     "output_type": "execute_result"
    }
   ],
   "source": [
    "evals"
   ]
  },
  {
   "cell_type": "code",
   "execution_count": 142,
   "metadata": {},
   "outputs": [
    {
     "data": {
      "image/png": "[encoded data removed]",
      "text/plain": [
       "<Figure size 432x288 with 1 Axes>"
      ]
     },
     "metadata": {
      "needs_background": "light"
     },
     "output_type": "display_data"
    }
   ],
   "source": [
    "num_modes = evals.shape[0]\n",
    "\n",
    "plt.scatter(range(num_modes), evals)\n",
    "plt.title('Eigenvalues Spectrum')\n",
    "plt.xlabel('Eigenvalue index')\n",
    "plt.show()"
   ]
  },
  {
   "cell_type": "markdown",
   "metadata": {},
   "source": [
    "Ahora los modos normales contienen una componente $x$, $y$ y $z$ para cada CA. ¿Cómo podemos hacer una representación similar a la que hacíamos en el GNM para ver la amplitud participación de cada CA en el modo? ¿Qué tal si representamos algo como $\\sqrt{x_{i}^{2} + y_{i}^{2} + z_{i}^{2}}$ para cada CA de índice $i$ en un mismo modo?"
   ]
  },
  {
   "cell_type": "code",
   "execution_count": 143,
   "metadata": {},
   "outputs": [
    {
     "data": {
      "image/png": "[encoded data removed]",
      "text/plain": [
       "<Figure size 432x288 with 1 Axes>"
      ]
     },
     "metadata": {
      "needs_background": "light"
     },
     "output_type": "display_data"
    }
   ],
   "source": [
    "# Esto viene de GNM y debe ser adaptado para ANM\n",
    "mode_index = 0\n",
    "plt.plot(range(num_modes), evects[:,mode_index])\n",
    "plt.title(f'{mode_index}-th normalized mode')\n",
    "plt.xlabel('CA index')\n",
    "plt.show()"
   ]
  },
  {
   "cell_type": "code",
   "execution_count": null,
   "metadata": {},
   "outputs": [],
   "source": []
  }
 ],
 "metadata": {
  "colab": {
   "collapsed_sections": [],
   "name": "Kirchoff_matrix.ipynb",
   "provenance": [],
   "toc_visible": true
  },
  "kernelspec": {
   "display_name": "Python 3 (ipykernel)",
   "language": "python",
   "name": "python3"
  },
  "language_info": {
   "codemirror_mode": {
    "name": "ipython",
    "version": 3
   },
   "file_extension": ".py",
   "mimetype": "text/x-python",
   "name": "python",
   "nbconvert_exporter": "python",
   "pygments_lexer": "ipython3",
   "version": "3.8.12"
  }
 },
 "nbformat": 4,
 "nbformat_minor": 4
}
