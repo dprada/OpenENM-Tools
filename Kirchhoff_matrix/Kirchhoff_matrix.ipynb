{
  "cells": [
    {
      "cell_type": "code",
      "execution_count": 1,
      "metadata": {
        "id": "9IW2nHk6lFAn"
      },
      "outputs": [],
      "source": [
        "import numpy as np\n",
        "import requests\n",
        "import os"
      ]
    },
    {
      "cell_type": "markdown",
      "metadata": {
        "id": "wyTN-ZatlFAs"
      },
      "source": [
        "# Working with the Kirchoff matrix of the Gaussian Network Model"
      ]
    },
    {
      "cell_type": "markdown",
      "metadata": {
        "id": "iHmTqGWLlFAv"
      },
      "source": [
        "## Downloading any PDB file\n",
        "\n",
        "Let's first of all store the PDB id we want to download and the path where the file needs to be located:"
      ]
    },
    {
      "cell_type": "code",
      "execution_count": 2,
      "metadata": {
        "id": "SBq9QCvelFAw"
      },
      "outputs": [],
      "source": [
        "pdb_id = '4NKK'\n",
        "download_path = \"./\""
      ]
    },
    {
      "cell_type": "markdown",
      "metadata": {
        "id": "ZGlDJEy1lFAx"
      },
      "source": [
        "And now let's define an auxiliary function to download pdb files to be stored locally in our machine."
      ]
    },
    {
      "cell_type": "code",
      "execution_count": 3,
      "metadata": {
        "id": "UtL1UAavlFAz"
      },
      "outputs": [],
      "source": [
        "def fetch_pdb(pdb_id, download_path=\"./\"):\n",
        "        url = 'http://files.rcsb.org/download/{}.pdb'.format(pdb_id)\n",
        "        try:\n",
        "            res = requests.get(url, allow_redirects=True)\n",
        "        except:\n",
        "            print(\"Could not fetch pdb from {}\".format(url))\n",
        "            return \n",
        "        \n",
        "        file_path = os.path.join(download_path, pdb_id + \".pdb\")\n",
        "        with open(file_path, \"wb\") as f:\n",
        "            f.write(res.content)\n",
        "        print(f\"The {pdb_id} file was downloaded succesfully!\")"
      ]
    },
    {
      "cell_type": "markdown",
      "metadata": {
        "id": "M57wYbIglFA0"
      },
      "source": [
        "Time to try it!"
      ]
    },
    {
      "cell_type": "code",
      "execution_count": 4,
      "metadata": {
        "colab": {
          "base_uri": "https://localhost:8080/"
        },
        "id": "kZNqSmJ_lFA1",
        "outputId": "f061da89-3fee-4529-bcca-3fe54d007bb2"
      },
      "outputs": [
        {
          "output_type": "stream",
          "name": "stdout",
          "text": [
            "The 4NKK file was downloaded succesfully!\n"
          ]
        }
      ],
      "source": [
        "fetch_pdb(pdb_id, download_path=download_path)"
      ]
    },
    {
      "cell_type": "markdown",
      "metadata": {
        "id": "HHla4c3KlFA2"
      },
      "source": [
        "## Parsing the positions of the CA atoms\n",
        "\n",
        "We are going take an approach not very short and efficiente to obtain the coordinates of the CA atoms. But let's do it this way just once:"
      ]
    },
    {
      "cell_type": "code",
      "execution_count": 19,
      "metadata": {
        "id": "P4vnOMKKlFA3"
      },
      "outputs": [],
      "source": [
        "file_path = os.path.join(download_path, pdb_id + \".pdb\")\n",
        "\n",
        "CA_coordinates = []\n",
        "\n",
        "with open(file_path) as fff:\n",
        "    for line in fff.readlines():\n",
        "        if line.startswith('ATOM  ') and line.split()[2]=='CA' :\n",
        "          \n",
        "            x, y, z = line.split()[6:9]\n",
        "            CA_coordinates.append([float(x), float(y), float(z)])"
      ]
    },
    {
      "cell_type": "markdown",
      "metadata": {
        "id": "9PeYmfgWlFA4"
      },
      "source": [
        "Ok, `CA_coordinates` is a list of lists... let's convert it to a numpy array:"
      ]
    },
    {
      "cell_type": "code",
      "execution_count": 32,
      "metadata": {
        "id": "aYCi7ZRvlFA4"
      },
      "outputs": [],
      "source": [
        "CA_coordinates = np.array(CA_coordinates)"
      ]
    },
    {
      "cell_type": "code",
      "source": [
        "#Número de carbonos alpha\n",
        "len(CA_coordinates)"
      ],
      "metadata": {
        "colab": {
          "base_uri": "https://localhost:8080/"
        },
        "id": "OKk3YwESn7mn",
        "outputId": "ce2cc824-8d8c-4601-9633-f5a4340afd95"
      },
      "execution_count": 21,
      "outputs": [
        {
          "output_type": "execute_result",
          "data": {
            "text/plain": [
              "99"
            ]
          },
          "metadata": {},
          "execution_count": 21
        }
      ]
    },
    {
      "cell_type": "markdown",
      "source": [
        "## Definiendo la matriz de Kirchhoff"
      ],
      "metadata": {
        "id": "dp0YgOxpvj-Q"
      }
    },
    {
      "cell_type": "code",
      "source": [
        "def kirchhoff_matrix(CA):\n",
        "  A=np.zeros((len(CA),len(CA)))\n",
        "  for i in range(len(A)):\n",
        "    for j in range(len(A)):\n",
        "      if i==j:\n",
        "        continue\n",
        "      d=np.sqrt(np.dot((CA[i]-CA[j]),(CA[i]-CA[j])))\n",
        "      if d<9:\n",
        "        A[i][j]=-1\n",
        "        A[i][i]+=-1\n",
        "  return A"
      ],
      "metadata": {
        "id": "Gzv73WPtlXkH"
      },
      "execution_count": 35,
      "outputs": []
    },
    {
      "cell_type": "code",
      "source": [
        "kirchhoff_matrix(CA_coordinates)"
      ],
      "metadata": {
        "colab": {
          "base_uri": "https://localhost:8080/"
        },
        "id": "H7U1Rz2wmETc",
        "outputId": "44282bfa-cf43-4b3b-effa-52077b926771"
      },
      "execution_count": 38,
      "outputs": [
        {
          "output_type": "execute_result",
          "data": {
            "text/plain": [
              "array([[-3., -1., -1., ...,  0.,  0.,  0.],\n",
              "       [-1., -3., -1., ...,  0.,  0.,  0.],\n",
              "       [-1., -1., -5., ...,  0.,  0.,  0.],\n",
              "       ...,\n",
              "       [ 0.,  0.,  0., ..., -5., -1., -1.],\n",
              "       [ 0.,  0.,  0., ..., -1., -3., -1.],\n",
              "       [ 0.,  0.,  0., ..., -1., -1., -2.]])"
            ]
          },
          "metadata": {},
          "execution_count": 38
        }
      ]
    }
  ],
  "metadata": {
    "colab": {
      "name": "Kirchoff_matrix.ipynb",
      "provenance": [],
      "collapsed_sections": [],
      "toc_visible": true
    },
    "kernelspec": {
      "display_name": "Python 3 (ipykernel)",
      "language": "python",
      "name": "python3"
    },
    "language_info": {
      "codemirror_mode": {
        "name": "ipython",
        "version": 3
      },
      "file_extension": ".py",
      "mimetype": "text/x-python",
      "name": "python",
      "nbconvert_exporter": "python",
      "pygments_lexer": "ipython3",
      "version": "3.7.12"
    }
  },
  "nbformat": 4,
  "nbformat_minor": 0
}