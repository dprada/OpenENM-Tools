{
 "cells": [
  {
   "cell_type": "code",
   "execution_count": 175,
   "metadata": {
    "id": "9IW2nHk6lFAn"
   },
   "outputs": [],
   "source": [
    "import numpy as np\n",
    "import requests\n",
    "import os\n",
    "from numpy.linalg import eig"
   ]
  },
  {
   "cell_type": "markdown",
   "metadata": {
    "id": "wyTN-ZatlFAs"
   },
   "source": [
    "# Working with the Kirchoff matrix of the Gaussian Network Model"
   ]
  },
  {
   "cell_type": "markdown",
   "metadata": {
    "id": "iHmTqGWLlFAv"
   },
   "source": [
    "## Downloading any PDB file\n",
    "\n",
    "Let's first of all store the PDB id we want to download and the path where the file needs to be located:"
   ]
  },
  {
   "cell_type": "code",
   "execution_count": 2,
   "metadata": {
    "id": "SBq9QCvelFAw"
   },
   "outputs": [],
   "source": [
    "pdb_id = '4NKK'\n",
    "download_path = \"./\""
   ]
  },
  {
   "cell_type": "markdown",
   "metadata": {
    "id": "ZGlDJEy1lFAx"
   },
   "source": [
    "And now let's define an auxiliary function to download pdb files to be stored locally in our machine."
   ]
  },
  {
   "cell_type": "code",
   "execution_count": 3,
   "metadata": {
    "id": "UtL1UAavlFAz"
   },
   "outputs": [],
   "source": [
    "def fetch_pdb(pdb_id, download_path=\"./\"):\n",
    "        url = 'http://files.rcsb.org/download/{}.pdb'.format(pdb_id)\n",
    "        try:\n",
    "            res = requests.get(url, allow_redirects=True)\n",
    "        except:\n",
    "            print(\"Could not fetch pdb from {}\".format(url))\n",
    "            return \n",
    "        \n",
    "        file_path = os.path.join(download_path, pdb_id + \".pdb\")\n",
    "        with open(file_path, \"wb\") as f:\n",
    "            f.write(res.content)\n",
    "        print(f\"The {pdb_id} file was downloaded succesfully!\")"
   ]
  },
  {
   "cell_type": "markdown",
   "metadata": {
    "id": "M57wYbIglFA0"
   },
   "source": [
    "Time to try it!"
   ]
  },
  {
   "cell_type": "code",
   "execution_count": 4,
   "metadata": {
    "colab": {
     "base_uri": "https://localhost:8080/"
    },
    "id": "kZNqSmJ_lFA1",
    "outputId": "f061da89-3fee-4529-bcca-3fe54d007bb2"
   },
   "outputs": [
    {
     "name": "stdout",
     "output_type": "stream",
     "text": [
      "The 4NKK file was downloaded succesfully!\n"
     ]
    }
   ],
   "source": [
    "fetch_pdb(pdb_id, download_path=download_path)"
   ]
  },
  {
   "cell_type": "markdown",
   "metadata": {
    "id": "HHla4c3KlFA2"
   },
   "source": [
    "## Parsing the positions of the CA atoms\n",
    "\n",
    "We are going take an approach not very short and efficiente to obtain the coordinates of the CA atoms. But let's do it this way just once:"
   ]
  },
  {
   "cell_type": "code",
   "execution_count": 5,
   "metadata": {
    "id": "P4vnOMKKlFA3"
   },
   "outputs": [],
   "source": [
    "file_path = os.path.join(download_path, pdb_id + \".pdb\")\n",
    "\n",
    "CA_coordinates = []\n",
    "\n",
    "with open(file_path) as fff:\n",
    "    for line in fff.readlines():\n",
    "        if line.startswith('ATOM  ') and line.split()[2]=='CA' :\n",
    "          \n",
    "            x, y, z = line.split()[6:9]\n",
    "            CA_coordinates.append([float(x), float(y), float(z)])"
   ]
  },
  {
   "cell_type": "markdown",
   "metadata": {
    "id": "9PeYmfgWlFA4"
   },
   "source": [
    "Ok, `CA_coordinates` is a list of lists... let's convert it to a numpy array:"
   ]
  },
  {
   "cell_type": "code",
   "execution_count": 6,
   "metadata": {
    "id": "aYCi7ZRvlFA4"
   },
   "outputs": [],
   "source": [
    "CA_coordinates = np.array(CA_coordinates)"
   ]
  },
  {
   "cell_type": "code",
   "execution_count": 244,
   "metadata": {
    "colab": {
     "base_uri": "https://localhost:8080/"
    },
    "id": "OKk3YwESn7mn",
    "outputId": "ce2cc824-8d8c-4601-9633-f5a4340afd95"
   },
   "outputs": [
    {
     "data": {
      "text/plain": [
       "99"
      ]
     },
     "execution_count": 244,
     "metadata": {},
     "output_type": "execute_result"
    }
   ],
   "source": [
    "#Alpha carbon number\n",
    "len(CA_coordinates)"
   ]
  },
  {
   "cell_type": "markdown",
   "metadata": {
    "id": "dp0YgOxpvj-Q"
   },
   "source": [
    "## Defining the Kirchhoff matrix"
   ]
  },
  {
   "cell_type": "code",
   "execution_count": 245,
   "metadata": {
    "id": "Gzv73WPtlXkH"
   },
   "outputs": [],
   "source": [
    "def kirchhoff_matrix(CA):\n",
    "  A=np.zeros((len(CA),len(CA)))\n",
    "  for i in range(len(A)):\n",
    "    for j in range(len(A)):\n",
    "      if i==j:\n",
    "        continue\n",
    "      r=CA[i]-CA[j]\n",
    "      d=np.sqrt(np.dot(r,r))\n",
    "      if d<9:\n",
    "        A[i][j]=-1\n",
    "        A[i][i]+=1\n",
    "  return A"
   ]
  },
  {
   "cell_type": "code",
   "execution_count": 246,
   "metadata": {
    "colab": {
     "base_uri": "https://localhost:8080/"
    },
    "id": "H7U1Rz2wmETc",
    "outputId": "44282bfa-cf43-4b3b-effa-52077b926771"
   },
   "outputs": [
    {
     "name": "stdout",
     "output_type": "stream",
     "text": [
      "[[ 3. -1. -1. ...  0.  0.  0.]\n",
      " [-1.  3. -1. ...  0.  0.  0.]\n",
      " [-1. -1.  5. ...  0.  0.  0.]\n",
      " ...\n",
      " [ 0.  0.  0. ...  5. -1. -1.]\n",
      " [ 0.  0.  0. ... -1.  3. -1.]\n",
      " [ 0.  0.  0. ... -1. -1.  2.]]\n"
     ]
    }
   ],
   "source": [
    "A=kirchhoff_matrix(CA_coordinates)\n",
    "print(A)\n"
   ]
  },
  {
   "cell_type": "markdown",
   "metadata": {},
   "source": [
    "## Diagonalizing from its eigenvalues"
   ]
  },
  {
   "cell_type": "code",
   "execution_count": 247,
   "metadata": {},
   "outputs": [],
   "source": [
    "#w:eigenvalues; v:eigenvectors\n",
    "w,v=eig(A)"
   ]
  },
  {
   "cell_type": "code",
   "execution_count": 248,
   "metadata": {},
   "outputs": [
    {
     "name": "stdout",
     "output_type": "stream",
     "text": [
      "[20.78665754 20.42434018 19.8325264   0.          0.5197002   0.61588676\n",
      "  0.83626185  1.92598286  1.64218979  1.68490315  2.40988656 18.90541643\n",
      " 18.62715984  3.12577142  3.32861177 18.25020556  3.56399207  3.6836059\n",
      " 18.05442935  3.93819502 17.91996179  4.22833998  4.54425632 17.4990182\n",
      " 17.38037741 17.23177569  5.07668546 16.84745339 16.52112958 16.24969375\n",
      " 16.15461876  5.29027057  5.27795016  5.67772533 15.84355079  6.19568691\n",
      " 15.68236414  6.38061816  6.57593396 15.52585389 15.45582289  6.76338342\n",
      " 15.26109589  6.89482929  7.02423358 15.21021425  7.22457248  7.46877614\n",
      " 14.94816622 14.73071753 14.61923771 14.56759951  7.86151925  7.75890996\n",
      "  8.02656396 14.26131348  8.17673328 14.18471007  8.32526219 13.97811834\n",
      "  8.62638514  8.71933292  8.836277   13.74142793 13.69180872 13.50137948\n",
      "  8.97048863 13.28858058 13.58429478 13.14137416 12.91097459 13.04719002\n",
      " 12.79387767  9.0836881   9.24932475  9.41076216  9.50362432 12.49558515\n",
      " 12.42928237 12.28374514  9.83279517  9.90529254 10.26186171 10.09304311\n",
      " 11.56641863 11.38890426 11.00349177 11.84836939 10.60520353 11.13898617\n",
      " 11.93410882 10.64941047 10.69990268 11.95394031 11.16727342  6.\n",
      "  9.98729811 11.65352999 10.        ]\n"
     ]
    }
   ],
   "source": [
    "#Rounding eigenvalues to 10 digits\n",
    "w=np.round(w,10)\n",
    "print(w)"
   ]
  },
  {
   "cell_type": "code",
   "execution_count": 249,
   "metadata": {},
   "outputs": [],
   "source": [
    "#sorting eigenvalues and eigenvectors in increasing order\n",
    "idx = w.argsort()  \n",
    "w = w[idx]\n",
    "v = v[:,idx]"
   ]
  },
  {
   "cell_type": "code",
   "execution_count": 250,
   "metadata": {},
   "outputs": [
    {
     "name": "stdout",
     "output_type": "stream",
     "text": [
      "[[ 0.          0.          0.         ...  0.          0.\n",
      "   0.        ]\n",
      " [ 0.          0.5197002   0.         ...  0.          0.\n",
      "   0.        ]\n",
      " [ 0.          0.          0.61588676 ...  0.          0.\n",
      "   0.        ]\n",
      " ...\n",
      " [ 0.          0.          0.         ... 19.8325264   0.\n",
      "   0.        ]\n",
      " [ 0.          0.          0.         ...  0.         20.42434018\n",
      "   0.        ]\n",
      " [ 0.          0.          0.         ...  0.          0.\n",
      "  20.78665754]]\n"
     ]
    }
   ],
   "source": [
    "#Building diagonal matrix\n",
    "D=np.diag(w)\n",
    "print(D)"
   ]
  },
  {
   "cell_type": "markdown",
   "metadata": {},
   "source": [
    "## Verifying the system is diagonalized"
   ]
  },
  {
   "cell_type": "code",
   "execution_count": 251,
   "metadata": {},
   "outputs": [
    {
     "name": "stdout",
     "output_type": "stream",
     "text": [
      "[[ 3.00000000e+00 -1.00000000e+00 -1.00000000e+00 ...  1.44208864e-12\n",
      "   5.74366509e-13  5.96286128e-12]\n",
      " [-1.00000000e+00  3.00000000e+00 -1.00000000e+00 ...  3.71067066e-12\n",
      "   7.18041295e-13  3.92605382e-12]\n",
      " [-1.00000000e+00 -1.00000000e+00  5.00000000e+00 ... -1.11900177e-11\n",
      "   4.68529339e-12  3.54063133e-12]\n",
      " ...\n",
      " [ 1.44206435e-12  3.71058739e-12 -1.11901322e-11 ...  5.00000000e+00\n",
      "  -1.00000000e+00 -1.00000000e+00]\n",
      " [ 5.74366076e-13  7.18041295e-13  4.68540354e-12 ... -1.00000000e+00\n",
      "   3.00000000e+00 -1.00000000e+00]\n",
      " [ 5.96286117e-12  3.92605382e-12  3.54074235e-12 ... -1.00000000e+00\n",
      "  -1.00000000e+00  2.00000000e+00]]\n"
     ]
    }
   ],
   "source": [
    "F=np.dot(v,np.dot(D,(np.transpose(v))))\n",
    "print(F)"
   ]
  },
  {
   "cell_type": "code",
   "execution_count": 252,
   "metadata": {},
   "outputs": [
    {
     "data": {
      "text/plain": [
       "True"
      ]
     },
     "execution_count": 252,
     "metadata": {},
     "output_type": "execute_result"
    }
   ],
   "source": [
    "#Equal except for round-off errors\n",
    "np.allclose(F,A)"
   ]
  }
 ],
 "metadata": {
  "colab": {
   "collapsed_sections": [],
   "name": "Kirchoff_matrix.ipynb",
   "provenance": [],
   "toc_visible": true
  },
  "kernelspec": {
   "display_name": "Python 3",
   "language": "python",
   "name": "python3"
  },
  "language_info": {
   "codemirror_mode": {
    "name": "ipython",
    "version": 3
   },
   "file_extension": ".py",
   "mimetype": "text/x-python",
   "name": "python",
   "nbconvert_exporter": "python",
   "pygments_lexer": "ipython3",
   "version": "3.8.5"
  }
 },
 "nbformat": 4,
 "nbformat_minor": 1
}
