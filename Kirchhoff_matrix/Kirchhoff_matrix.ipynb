{
 "cells": [
  {
   "cell_type": "code",
   "execution_count": 2,
   "metadata": {
    "id": "9IW2nHk6lFAn"
   },
   "outputs": [
    {
     "data": {
      "application/vnd.jupyter.widget-view+json": {
       "model_id": "d7f065711d2349069a93a75625493aff",
       "version_major": 2,
       "version_minor": 0
      },
      "text/plain": []
     },
     "metadata": {},
     "output_type": "display_data"
    }
   ],
   "source": [
    "import numpy as np\n",
    "import requests\n",
    "import os\n",
    "from numpy.linalg import eigh\n",
    "import matplotlib.pyplot as plt\n",
    "import mdtraj as md\n",
    "import nglview as nv\n",
    "from mpl_toolkits.axes_grid1 import make_axes_locatable"
   ]
  },
  {
   "cell_type": "markdown",
   "metadata": {
    "id": "wyTN-ZatlFAs"
   },
   "source": [
    "# Working with the Kirchoff matrix of the Gaussian Network Model"
   ]
  },
  {
   "cell_type": "markdown",
   "metadata": {
    "id": "iHmTqGWLlFAv"
   },
   "source": [
    "## Downloading any PDB file\n",
    "\n",
    "Let's first of all store the PDB id we want to download and the path where the file needs to be located:"
   ]
  },
  {
   "cell_type": "code",
   "execution_count": 3,
   "metadata": {
    "id": "SBq9QCvelFAw"
   },
   "outputs": [],
   "source": [
    "pdb_id = '4NKK'\n",
    "download_path = \"./\""
   ]
  },
  {
   "cell_type": "markdown",
   "metadata": {
    "id": "ZGlDJEy1lFAx"
   },
   "source": [
    "And now let's define an auxiliary function to download pdb files to be stored locally in our machine."
   ]
  },
  {
   "cell_type": "code",
   "execution_count": 4,
   "metadata": {
    "id": "UtL1UAavlFAz"
   },
   "outputs": [],
   "source": [
    "def fetch_pdb(pdb_id, download_path=\"./\"):\n",
    "        url = 'http://files.rcsb.org/download/{}.pdb'.format(pdb_id)\n",
    "        try:\n",
    "            res = requests.get(url, allow_redirects=True)\n",
    "        except:\n",
    "            print(\"Could not fetch pdb from {}\".format(url))\n",
    "            return \n",
    "        \n",
    "        file_path = os.path.join(download_path, pdb_id + \".pdb\")\n",
    "        with open(file_path, \"wb\") as f:\n",
    "            f.write(res.content)\n",
    "        print(f\"The {pdb_id} file was downloaded succesfully!\")"
   ]
  },
  {
   "cell_type": "markdown",
   "metadata": {
    "id": "M57wYbIglFA0"
   },
   "source": [
    "Time to try it!"
   ]
  },
  {
   "cell_type": "code",
   "execution_count": 5,
   "metadata": {
    "colab": {
     "base_uri": "https://localhost:8080/"
    },
    "id": "kZNqSmJ_lFA1",
    "outputId": "f061da89-3fee-4529-bcca-3fe54d007bb2"
   },
   "outputs": [
    {
     "name": "stdout",
     "output_type": "stream",
     "text": [
      "The 4NKK file was downloaded succesfully!\n"
     ]
    }
   ],
   "source": [
    "fetch_pdb(pdb_id, download_path=download_path)"
   ]
  },
  {
   "cell_type": "markdown",
   "metadata": {
    "id": "HHla4c3KlFA2"
   },
   "source": [
    "## Parsing the positions of the CA atoms\n",
    "\n",
    "We are going take an approach not very short and efficiente to obtain the coordinates of the CA atoms. But let's do it this way just once:"
   ]
  },
  {
   "cell_type": "code",
   "execution_count": 6,
   "metadata": {
    "id": "P4vnOMKKlFA3"
   },
   "outputs": [],
   "source": [
    "file_path = os.path.join(download_path, pdb_id + \".pdb\")\n",
    "\n",
    "CA_coordinates = []\n",
    "\n",
    "with open(file_path) as fff:\n",
    "    for line in fff.readlines():\n",
    "        if line.startswith('ATOM  ') and line.split()[2]=='CA' :\n",
    "          \n",
    "            x, y, z = line.split()[6:9]\n",
    "            CA_coordinates.append([float(x), float(y), float(z)])"
   ]
  },
  {
   "cell_type": "markdown",
   "metadata": {
    "id": "9PeYmfgWlFA4"
   },
   "source": [
    "Ok, `CA_coordinates` is a list of lists... let's convert it to a numpy array:"
   ]
  },
  {
   "cell_type": "code",
   "execution_count": 7,
   "metadata": {
    "id": "aYCi7ZRvlFA4"
   },
   "outputs": [],
   "source": [
    "CA_coordinates = np.array(CA_coordinates)"
   ]
  },
  {
   "cell_type": "code",
   "execution_count": 8,
   "metadata": {
    "colab": {
     "base_uri": "https://localhost:8080/"
    },
    "id": "OKk3YwESn7mn",
    "outputId": "ce2cc824-8d8c-4601-9633-f5a4340afd95"
   },
   "outputs": [
    {
     "data": {
      "text/plain": [
       "99"
      ]
     },
     "execution_count": 8,
     "metadata": {},
     "output_type": "execute_result"
    }
   ],
   "source": [
    "#Alpha carbon number\n",
    "len(CA_coordinates)"
   ]
  },
  {
   "cell_type": "markdown",
   "metadata": {
    "id": "dp0YgOxpvj-Q"
   },
   "source": [
    "## Defining the Kirchhoff matrix"
   ]
  },
  {
   "cell_type": "code",
   "execution_count": 9,
   "metadata": {
    "id": "Gzv73WPtlXkH"
   },
   "outputs": [],
   "source": [
    "def kirchhoff_matrix(CA, threshold):\n",
    "    num_CAs = CA.shape[0]\n",
    "    matrix = np.zeros((num_CAs, num_CAs), dtype=int)\n",
    "    for ii in range(num_CAs):\n",
    "        for jj in range(ii):\n",
    "            rij=CA[ii]-CA[jj]\n",
    "            distance=np.sqrt(np.dot(rij,rij))\n",
    "            if distance<threshold:\n",
    "                matrix[ii,jj] = -1\n",
    "                matrix[jj,ii] = -1\n",
    "                matrix[ii,ii] += 1\n",
    "                matrix[jj,jj] += 1\n",
    "    return matrix"
   ]
  },
  {
   "cell_type": "code",
   "execution_count": 10,
   "metadata": {
    "colab": {
     "base_uri": "https://localhost:8080/"
    },
    "id": "H7U1Rz2wmETc",
    "outputId": "44282bfa-cf43-4b3b-effa-52077b926771"
   },
   "outputs": [
    {
     "data": {
      "text/plain": [
       "array([[ 3, -1, -1, ...,  0,  0,  0],\n",
       "       [-1,  3, -1, ...,  0,  0,  0],\n",
       "       [-1, -1,  5, ...,  0,  0,  0],\n",
       "       ...,\n",
       "       [ 0,  0,  0, ...,  5, -1, -1],\n",
       "       [ 0,  0,  0, ..., -1,  3, -1],\n",
       "       [ 0,  0,  0, ..., -1, -1,  2]])"
      ]
     },
     "execution_count": 10,
     "metadata": {},
     "output_type": "execute_result"
    }
   ],
   "source": [
    "K_matrix = kirchhoff_matrix(CA_coordinates, 9.0)\n",
    "K_matrix"
   ]
  },
  {
   "cell_type": "markdown",
   "metadata": {},
   "source": [
    "## Diagonalizing from its eigenvalues"
   ]
  },
  {
   "cell_type": "code",
   "execution_count": 11,
   "metadata": {},
   "outputs": [],
   "source": [
    "evals, evects = eigh(K_matrix)"
   ]
  },
  {
   "cell_type": "code",
   "execution_count": 12,
   "metadata": {},
   "outputs": [
    {
     "data": {
      "image/png": "[encoded data removed]",
      "text/plain": [
       "<Figure size 432x288 with 1 Axes>"
      ]
     },
     "metadata": {
      "needs_background": "light"
     },
     "output_type": "display_data"
    }
   ],
   "source": [
    "num_modes = evals.shape[0]\n",
    "\n",
    "plt.scatter(range(num_modes), evals)\n",
    "plt.title('Eigenvalues Spectrum')\n",
    "plt.xlabel('Eigenvalue index')\n",
    "plt.show()"
   ]
  },
  {
   "cell_type": "code",
   "execution_count": 13,
   "metadata": {},
   "outputs": [
    {
     "data": {
      "image/png": "[encoded data removed]",
      "text/plain": [
       "<Figure size 432x288 with 1 Axes>"
      ]
     },
     "metadata": {
      "needs_background": "light"
     },
     "output_type": "display_data"
    }
   ],
   "source": [
    "mode_index = 1\n",
    "plt.plot(range(num_modes), evects[:,mode_index])\n",
    "plt.title(f'{mode_index}-th normalized mode')\n",
    "plt.xlabel('CA index')\n",
    "plt.show()"
   ]
  },
  {
   "cell_type": "markdown",
   "metadata": {},
   "source": [
    "## Obtaining $\\Gamma^{-1}$ from the N-1 non-zero eigenvalues\n"
   ]
  },
  {
   "cell_type": "code",
   "execution_count": 14,
   "metadata": {},
   "outputs": [],
   "source": [
    "#Removing 0 eigenvalue and corresponding eigenvector\n",
    "evals_new=np.delete(evals,0)\n",
    "evects_new=np.delete(evects,0,1)"
   ]
  },
  {
   "cell_type": "code",
   "execution_count": 15,
   "metadata": {},
   "outputs": [],
   "source": [
    "#Defining the diagonalized matrix of eigenvalues\n",
    "D=np.diag(evals_new)"
   ]
  },
  {
   "cell_type": "code",
   "execution_count": 17,
   "metadata": {},
   "outputs": [],
   "source": [
    "#Defining invertible Krichhoff matrix\n",
    "K_matrix_inv=np.matmul(evects_new, np.matmul(np.linalg.inv(D),np.transpose(evects_new)))"
   ]
  },
  {
   "cell_type": "code",
   "execution_count": 18,
   "metadata": {},
   "outputs": [],
   "source": [
    "#Defining the B factors\n",
    "kb=1.38064852e-23 #Boltzmann constant\n",
    "T=100 #Experimental temperature\n",
    "f=6e-22 #Arbitrary force constant\n",
    "B_Theory=[8*np.pi**2*kb*T/f*K_matrix_inv[ii][ii] for ii in range(len(K_matrix_inv))]"
   ]
  },
  {
   "cell_type": "code",
   "execution_count": 19,
   "metadata": {},
   "outputs": [],
   "source": [
    "#Reading B factors from PDB\n",
    "B_exp=[]\n",
    "with open(file_path) as fff:\n",
    "    for line in fff.readlines():\n",
    "        if line.startswith('ATOM  ') and line.split()[2]=='CA' :\n",
    "            \n",
    "            Bi = line.split()[10]\n",
    "            B_exp.append(float(Bi))"
   ]
  },
  {
   "cell_type": "code",
   "execution_count": 20,
   "metadata": {},
   "outputs": [
    {
     "data": {
      "image/png": "[encoded data removed]",
      "text/plain": [
       "<Figure size 432x288 with 1 Axes>"
      ]
     },
     "metadata": {
      "needs_background": "light"
     },
     "output_type": "display_data"
    }
   ],
   "source": [
    "plt.scatter(range(num_modes), B_Theory,c='red',label = 'Theory',s=10)\n",
    "plt.scatter(range(num_modes), B_exp,c='blue',label='Experiment',s=10)\n",
    "plt.title('B factor')\n",
    "plt.xlabel('Residue index')\n",
    "plt.legend()\n",
    "plt.show()"
   ]
  },
  {
   "cell_type": "markdown",
   "metadata": {},
   "source": [
    "## Calculating correlation matrix from Kirchhoff Matrix"
   ]
  },
  {
   "cell_type": "code",
   "execution_count": 21,
   "metadata": {},
   "outputs": [],
   "source": [
    "Corr_Matrix=3*kb*T/f*K_matrix_inv"
   ]
  },
  {
   "cell_type": "code",
   "execution_count": 22,
   "metadata": {},
   "outputs": [
    {
     "data": {
      "image/png": "[encoded data removed]",
      "text/plain": [
       "<Figure size 432x288 with 2 Axes>"
      ]
     },
     "metadata": {
      "needs_background": "light"
     },
     "output_type": "display_data"
    }
   ],
   "source": [
    "ax = plt.subplot()\n",
    "im = ax.imshow(Corr_Matrix,cmap='RdYlBu')\n",
    "divider = make_axes_locatable(ax)\n",
    "cax = divider.append_axes(\"right\", size=\"5%\", pad=0.05)\n",
    "plt.colorbar(im, cax=cax)\n",
    "plt.show()"
   ]
  },
  {
   "cell_type": "code",
   "execution_count": null,
   "metadata": {},
   "outputs": [],
   "source": []
  }
 ],
 "metadata": {
  "colab": {
   "collapsed_sections": [],
   "name": "Kirchoff_matrix.ipynb",
   "provenance": [],
   "toc_visible": true
  },
  "kernelspec": {
   "display_name": "Python 3 (ipykernel)",
   "language": "python",
   "name": "python3"
  },
  "language_info": {
   "codemirror_mode": {
    "name": "ipython",
    "version": 3
   },
   "file_extension": ".py",
   "mimetype": "text/x-python",
   "name": "python",
   "nbconvert_exporter": "python",
   "pygments_lexer": "ipython3",
   "version": "3.8.12"
  }
 },
 "nbformat": 4,
 "nbformat_minor": 1
}
