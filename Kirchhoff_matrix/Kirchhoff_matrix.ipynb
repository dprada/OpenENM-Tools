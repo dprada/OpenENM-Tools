{
 "cells": [
  {
   "cell_type": "code",
   "execution_count": 1,
   "metadata": {
    "id": "9IW2nHk6lFAn"
   },
   "outputs": [
    {
     "data": {
      "application/vnd.jupyter.widget-view+json": {
       "model_id": "8fc24f7c25a742468ffe7d7a12929f38",
       "version_major": 2,
       "version_minor": 0
      },
      "text/plain": []
     },
     "metadata": {},
     "output_type": "display_data"
    }
   ],
   "source": [
    "import numpy as np\n",
    "import requests\n",
    "import os\n",
    "from numpy.linalg import eigh\n",
    "import matplotlib.pyplot as plt\n",
    "import mdtraj as md\n",
    "import nglview as nv\n",
    "from mpl_toolkits.axes_grid1 import make_axes_locatable\n",
    "import seaborn as sns\n",
    "import matplotlib as mpl"
   ]
  },
  {
   "cell_type": "markdown",
   "metadata": {
    "id": "wyTN-ZatlFAs"
   },
   "source": [
    "# Working with the Kirchoff matrix of the Gaussian Network Model"
   ]
  },
  {
   "cell_type": "markdown",
   "metadata": {
    "id": "iHmTqGWLlFAv"
   },
   "source": [
    "## Downloading any PDB file\n",
    "\n",
    "Let's first of all store the PDB id we want to download and the path where the file needs to be located:"
   ]
  },
  {
   "cell_type": "code",
   "execution_count": 2,
   "metadata": {
    "id": "SBq9QCvelFAw"
   },
   "outputs": [],
   "source": [
    "pdb_id = '1HIV'\n",
    "download_path = \"./\""
   ]
  },
  {
   "cell_type": "markdown",
   "metadata": {
    "id": "ZGlDJEy1lFAx"
   },
   "source": [
    "And now let's define an auxiliary function to download pdb files to be stored locally in our machine."
   ]
  },
  {
   "cell_type": "code",
   "execution_count": 3,
   "metadata": {
    "id": "UtL1UAavlFAz"
   },
   "outputs": [],
   "source": [
    "def fetch_pdb(pdb_id, download_path=\"./\"):\n",
    "        url = 'http://files.rcsb.org/download/{}.pdb'.format(pdb_id)\n",
    "        try:\n",
    "            res = requests.get(url, allow_redirects=True)\n",
    "        except:\n",
    "            print(\"Could not fetch pdb from {}\".format(url))\n",
    "            return \n",
    "        \n",
    "        file_path = os.path.join(download_path, pdb_id + \".pdb\")\n",
    "        with open(file_path, \"wb\") as f:\n",
    "            f.write(res.content)\n",
    "        print(f\"The {pdb_id} file was downloaded succesfully!\")"
   ]
  },
  {
   "cell_type": "markdown",
   "metadata": {
    "id": "M57wYbIglFA0"
   },
   "source": [
    "Time to try it!"
   ]
  },
  {
   "cell_type": "code",
   "execution_count": 4,
   "metadata": {
    "colab": {
     "base_uri": "https://localhost:8080/"
    },
    "id": "kZNqSmJ_lFA1",
    "outputId": "f061da89-3fee-4529-bcca-3fe54d007bb2"
   },
   "outputs": [
    {
     "name": "stdout",
     "output_type": "stream",
     "text": [
      "The 1HIV file was downloaded succesfully!\n"
     ]
    }
   ],
   "source": [
    "fetch_pdb(pdb_id, download_path=download_path)"
   ]
  },
  {
   "cell_type": "markdown",
   "metadata": {
    "id": "HHla4c3KlFA2"
   },
   "source": [
    "## Parsing the positions of the CA atoms\n",
    "\n",
    "We are going take an approach not very short and efficiente to obtain the coordinates of the CA atoms. But let's do it this way just once:"
   ]
  },
  {
   "cell_type": "code",
   "execution_count": 56,
   "metadata": {
    "id": "P4vnOMKKlFA3"
   },
   "outputs": [],
   "source": [
    "file_path = os.path.join(download_path, pdb_id + \".pdb\")\n",
    "\n",
    "CA_coordinates = []\n",
    "\n",
    "with open(file_path) as fff:\n",
    "    for line in fff.readlines():\n",
    "        if (line.startswith('ATOM  ') or line.startswith('HETATM')):\n",
    "            if line.split()[2]=='CA' and line.split()[3]!='1ZK' :\n",
    "\n",
    "                x, y, z = line.split()[6:9]\n",
    "                CA_coordinates.append([float(x), float(y), float(z)])"
   ]
  },
  {
   "cell_type": "markdown",
   "metadata": {
    "id": "9PeYmfgWlFA4"
   },
   "source": [
    "Ok, `CA_coordinates` is a list of lists... let's convert it to a numpy array:"
   ]
  },
  {
   "cell_type": "code",
   "execution_count": 58,
   "metadata": {
    "id": "aYCi7ZRvlFA4"
   },
   "outputs": [],
   "source": [
    "CA_coordinates = np.array(CA_coordinates)"
   ]
  },
  {
   "cell_type": "code",
   "execution_count": 59,
   "metadata": {
    "colab": {
     "base_uri": "https://localhost:8080/"
    },
    "id": "OKk3YwESn7mn",
    "outputId": "ce2cc824-8d8c-4601-9633-f5a4340afd95"
   },
   "outputs": [
    {
     "data": {
      "text/plain": [
       "198"
      ]
     },
     "execution_count": 59,
     "metadata": {},
     "output_type": "execute_result"
    }
   ],
   "source": [
    "#Alpha carbon number\n",
    "len(CA_coordinates)"
   ]
  },
  {
   "cell_type": "markdown",
   "metadata": {
    "id": "dp0YgOxpvj-Q"
   },
   "source": [
    "## Defining the Kirchhoff matrix"
   ]
  },
  {
   "cell_type": "code",
   "execution_count": 60,
   "metadata": {
    "id": "Gzv73WPtlXkH"
   },
   "outputs": [],
   "source": [
    "def kirchhoff_matrix(CA, threshold):\n",
    "    num_CAs = CA.shape[0]\n",
    "    matrix = np.zeros((num_CAs, num_CAs), dtype=int)\n",
    "    for ii in range(num_CAs):\n",
    "        for jj in range(ii):\n",
    "            rij=CA[ii]-CA[jj]\n",
    "            distance=np.sqrt(np.dot(rij,rij))\n",
    "            if distance<threshold:\n",
    "                matrix[ii,jj] = -1\n",
    "                matrix[jj,ii] = -1\n",
    "                matrix[ii,ii] += 1\n",
    "                matrix[jj,jj] += 1\n",
    "    return matrix"
   ]
  },
  {
   "cell_type": "code",
   "execution_count": 61,
   "metadata": {
    "colab": {
     "base_uri": "https://localhost:8080/"
    },
    "id": "H7U1Rz2wmETc",
    "outputId": "44282bfa-cf43-4b3b-effa-52077b926771"
   },
   "outputs": [
    {
     "data": {
      "text/plain": [
       "array([[ 5, -1, -1, ..., -1, -1, -1],\n",
       "       [-1,  7, -1, ..., -1, -1, -1],\n",
       "       [-1, -1, 10, ..., -1, -1, -1],\n",
       "       ...,\n",
       "       [-1, -1, -1, ..., 16, -1, -1],\n",
       "       [-1, -1, -1, ..., -1, 12, -1],\n",
       "       [-1, -1, -1, ..., -1, -1, 10]])"
      ]
     },
     "execution_count": 61,
     "metadata": {},
     "output_type": "execute_result"
    }
   ],
   "source": [
    "K_matrix = kirchhoff_matrix(CA_coordinates, 9.0)\n",
    "K_matrix"
   ]
  },
  {
   "cell_type": "markdown",
   "metadata": {},
   "source": [
    "## Diagonalizing from its eigenvalues"
   ]
  },
  {
   "cell_type": "code",
   "execution_count": 62,
   "metadata": {},
   "outputs": [],
   "source": [
    "evals, evects = eigh(K_matrix)"
   ]
  },
  {
   "cell_type": "code",
   "execution_count": 63,
   "metadata": {},
   "outputs": [
    {
     "data": {
      "image/png": "[encoded data removed]",
      "text/plain": [
       "<Figure size 432x288 with 1 Axes>"
      ]
     },
     "metadata": {
      "needs_background": "light"
     },
     "output_type": "display_data"
    }
   ],
   "source": [
    "num_modes = evals.shape[0]\n",
    "\n",
    "plt.scatter(range(num_modes), evals)\n",
    "plt.title('Eigenvalues Spectrum')\n",
    "plt.xlabel('Eigenvalue index')\n",
    "plt.show()"
   ]
  },
  {
   "cell_type": "code",
   "execution_count": 64,
   "metadata": {},
   "outputs": [
    {
     "data": {
      "image/png": "[encoded data removed]",
      "text/plain": [
       "<Figure size 432x288 with 1 Axes>"
      ]
     },
     "metadata": {
      "needs_background": "light"
     },
     "output_type": "display_data"
    }
   ],
   "source": [
    "mode_index = 1\n",
    "plt.plot(range(num_modes), evects[:,mode_index])\n",
    "plt.title(f'{mode_index}-th normalized mode')\n",
    "plt.xlabel('CA index')\n",
    "plt.show()"
   ]
  },
  {
   "cell_type": "markdown",
   "metadata": {},
   "source": [
    "## Obtaining $\\Gamma^{-1}$ from the N-1 non-zero eigenvalues\n"
   ]
  },
  {
   "cell_type": "code",
   "execution_count": 65,
   "metadata": {},
   "outputs": [],
   "source": [
    "#Removing 0 eigenvalue and corresponding eigenvector\n",
    "evals_new=np.delete(evals,0)\n",
    "evects_new=np.delete(evects,0,1)"
   ]
  },
  {
   "cell_type": "code",
   "execution_count": 66,
   "metadata": {},
   "outputs": [],
   "source": [
    "#Defining the diagonalized matrix of eigenvalues\n",
    "D=np.diag(evals_new)"
   ]
  },
  {
   "cell_type": "code",
   "execution_count": 67,
   "metadata": {},
   "outputs": [],
   "source": [
    "#Defining invertible Kirchhoff matrix\n",
    "K_matrix_inv=np.matmul(evects_new, np.matmul(np.linalg.inv(D),np.transpose(evects_new)))"
   ]
  },
  {
   "cell_type": "code",
   "execution_count": 68,
   "metadata": {},
   "outputs": [],
   "source": [
    "#Defining the B factors\n",
    "kb=1.38064852e-23 #Boltzmann constant\n",
    "T=100 #Experimental temperature\n",
    "f=6e-22 #Arbitrary force constant\n",
    "B_Theory=[8*np.pi**2*kb*T/f*K_matrix_inv[ii][ii] for ii in range(len(K_matrix_inv))]"
   ]
  },
  {
   "cell_type": "code",
   "execution_count": 69,
   "metadata": {},
   "outputs": [],
   "source": [
    "#Reading B factors from PDB\n",
    "B_exp=[]\n",
    "with open(file_path) as fff:\n",
    "    for line in fff.readlines():\n",
    "        if (line.startswith('ATOM  ') or line.startswith('HETATM')):\n",
    "            if line.split()[2]=='CA' and line.split()[3]!='1ZK' :\n",
    "            \n",
    "                Bi = line.split()[10]\n",
    "                B_exp.append(float(Bi))"
   ]
  },
  {
   "cell_type": "code",
   "execution_count": 70,
   "metadata": {},
   "outputs": [
    {
     "data": {
      "image/png": "[encoded data removed]",
      "text/plain": [
       "<Figure size 432x288 with 1 Axes>"
      ]
     },
     "metadata": {
      "needs_background": "light"
     },
     "output_type": "display_data"
    }
   ],
   "source": [
    "plt.plot(range(num_modes), B_Theory,c='red',label = 'Theory')\n",
    "plt.plot(range(num_modes), B_exp,c='blue',label='Experiment')\n",
    "plt.title('B factor')\n",
    "plt.xlabel('Residue index')\n",
    "plt.legend()\n",
    "plt.show()"
   ]
  },
  {
   "cell_type": "markdown",
   "metadata": {},
   "source": [
    "## Calculating correlation matrix from Kirchhoff Matrix"
   ]
  },
  {
   "cell_type": "code",
   "execution_count": 71,
   "metadata": {},
   "outputs": [],
   "source": [
    "Corr_Matrix=3*kb*T/f*K_matrix_inv"
   ]
  },
  {
   "cell_type": "code",
   "execution_count": 72,
   "metadata": {},
   "outputs": [
    {
     "data": {
      "text/plain": [
       "2.6655855541930764"
      ]
     },
     "execution_count": 72,
     "metadata": {},
     "output_type": "execute_result"
    }
   ],
   "source": [
    "Corr_Matrix.max()"
   ]
  },
  {
   "cell_type": "code",
   "execution_count": 74,
   "metadata": {},
   "outputs": [
    {
     "data": {
      "image/png": "[encoded data removed]",
      "text/plain": [
       "<Figure size 432x288 with 2 Axes>"
      ]
     },
     "metadata": {
      "needs_background": "light"
     },
     "output_type": "display_data"
    }
   ],
   "source": [
    "ax = plt.subplot()\n",
    "im = ax.imshow(Corr_Matrix,cmap='Blues')\n",
    "divider = make_axes_locatable(ax)\n",
    "cax = divider.append_axes(\"right\", size=\"5%\", pad=0.05)\n",
    "plt.colorbar(im, cax=cax)\n",
    "plt.xlim([0,198])\n",
    "plt.ylim([0,198])\n",
    "plt.show()"
   ]
  },
  {
   "cell_type": "markdown",
   "metadata": {},
   "source": [
    "## Cartoon representation of B factors [Iván]"
   ]
  },
  {
   "cell_type": "code",
   "execution_count": null,
   "metadata": {},
   "outputs": [],
   "source": [
    "traj = md.load(file_path)"
   ]
  },
  {
   "cell_type": "code",
   "execution_count": null,
   "metadata": {},
   "outputs": [],
   "source": [
    "atoms_in_protein = traj.topology.select('chainid 0 1')"
   ]
  },
  {
   "cell_type": "code",
   "execution_count": null,
   "metadata": {},
   "outputs": [],
   "source": [
    "traj_protein = traj.atom_slice(atoms_in_protein)"
   ]
  },
  {
   "cell_type": "code",
   "execution_count": null,
   "metadata": {},
   "outputs": [],
   "source": [
    "#Red color palette\n",
    "pal = sns.color_palette('Reds', 7)\n",
    "reds=pal.as_hex()"
   ]
  },
  {
   "cell_type": "code",
   "execution_count": null,
   "metadata": {},
   "outputs": [],
   "source": [
    "interval=np.linspace(11,71,8)#Dividing B factors value in 8 intervals\n",
    "scheme=[]\n",
    "for ii in range(1,100):\n",
    "    for jj in range(7):\n",
    "        if interval[jj] <=B_Theory[ii] < interval[jj+1]:\n",
    "            scheme.append(['{}'.format(reds[jj]),'{}'.format(ii)])#Adding color according to B factor value\n"
   ]
  },
  {
   "cell_type": "code",
   "execution_count": null,
   "metadata": {},
   "outputs": [],
   "source": [
    "#Creating color scheme\n",
    "colors=nv.color._ColorScheme(scheme,label=True)"
   ]
  },
  {
   "cell_type": "code",
   "execution_count": null,
   "metadata": {},
   "outputs": [],
   "source": [
    "view=nv.show_mdtraj(traj_protein)\n",
    "view.clear_representations()\n",
    "view.add_cartoon(color=colors)\n",
    "view"
   ]
  },
  {
   "cell_type": "markdown",
   "metadata": {},
   "source": [
    "## Cartoon representation of B factors [Diego]"
   ]
  },
  {
   "cell_type": "markdown",
   "metadata": {},
   "source": [
    "Cargamos cuatro objetos que vamos a usar..."
   ]
  },
  {
   "cell_type": "code",
   "execution_count": 75,
   "metadata": {},
   "outputs": [],
   "source": [
    "# Cargo cuatro elementos que vamos a usar\n",
    "\n",
    "from matplotlib.colors import Normalize, to_hex\n",
    "from nglview.color import _ColorScheme\n",
    "from matplotlib import cm"
   ]
  },
  {
   "cell_type": "markdown",
   "metadata": {},
   "source": [
    "Y creamos un objeto nativo \"trajectory\" de mdtraj con el dímero."
   ]
  },
  {
   "cell_type": "code",
   "execution_count": 76,
   "metadata": {},
   "outputs": [],
   "source": [
    "traj = md.load(file_path)\n",
    "atoms_in_protein = traj.topology.select('chainid 0 1')\n",
    "traj_protein = traj.atom_slice(atoms_in_protein)"
   ]
  },
  {
   "cell_type": "code",
   "execution_count": 78,
   "metadata": {},
   "outputs": [],
   "source": [
    "residue_labels = {}\n",
    "chain_index_to_id = {0:'A', 1:'B'}\n",
    "\n",
    "for residue in traj_protein.topology.residues:\n",
    "    label = str(residue.resSeq) + ':' + str(chain_index_to_id[residue.chain.index])\n",
    "    residue_labels[residue.index]=label"
   ]
  },
  {
   "cell_type": "markdown",
   "metadata": {},
   "source": [
    "En este punto, vamos crear una variable auxiliar llamada \"values_per_residue\". De esta manera, si quieres visualizar por ejemplo el primero modo normal... los valores experimentales o teóricos de los beta factors... o los valores de auto-correlación (la diagonal de la matriz de correlación), sólo tienes que darle nuevo contenido a dicha variable."
   ]
  },
  {
   "cell_type": "code",
   "execution_count": 79,
   "metadata": {},
   "outputs": [],
   "source": [
    "values_per_residue = B_Theory"
   ]
  },
  {
   "cell_type": "markdown",
   "metadata": {},
   "source": [
    "Ahora, con ayuda de los matplotlib, vamos a mapear los valores almacenados en \"values_per_residue\" según una escala de color que vamos a definir. Y vamos a guardar dichos colores en código hexadecimal.\n",
    "\n",
    "Podríamos hacerlo a mano, pero para ser más rápidos, vamos a servirnos de los colormaps de Matplotlib:"
   ]
  },
  {
   "cell_type": "code",
   "execution_count": 80,
   "metadata": {},
   "outputs": [],
   "source": [
    "cmap = cm.get_cmap('Reds') # Elegimos el mapa de rojos"
   ]
  },
  {
   "cell_type": "markdown",
   "metadata": {},
   "source": [
    "Y hacemos uso de la clase 'Normalize' de matplotlib para reescalar linealmente nuestros valores entre un cierto valor máximo y otro cierto valor mínimo definidos por nosotros. También podríamos hacerlo a mano... pero ya que está:"
   ]
  },
  {
   "cell_type": "code",
   "execution_count": 81,
   "metadata": {},
   "outputs": [],
   "source": [
    "norm = Normalize(vmin=0.0, vmax=np.max(values_per_residue))"
   ]
  },
  {
   "cell_type": "markdown",
   "metadata": {},
   "source": [
    "Ya podemos calcular los colores por residuo:"
   ]
  },
  {
   "cell_type": "code",
   "execution_count": 82,
   "metadata": {},
   "outputs": [],
   "source": [
    "colors_per_residue = []\n",
    "\n",
    "for value in values_per_residue:\n",
    "    colors_per_residue.append(to_hex(cmap(norm(value))))"
   ]
  },
  {
   "cell_type": "code",
   "execution_count": 83,
   "metadata": {},
   "outputs": [
    {
     "name": "stdout",
     "output_type": "stream",
     "text": [
      "['#e43027', '#fb6d4d', '#fc9b7c', '#fcb69b', '#fcc3ab', '#fc9b7c', '#fc8f6f', '#fcbda4', '#fdc6b0', '#fca78b', '#fca98c', '#fcaf93', '#fcaf93', '#fcb095', '#fca183', '#fca285', '#da2723', '#f96044', '#fc8262', '#fc9777', '#fcaf93', '#fcc3ab', '#fdcbb6', '#fdd2bf', '#fdd0bc', '#fdd4c2', '#fdc9b3', '#fdd0bc', '#fcb89e', '#fcbea5', '#fdcdb9', '#fdcab5', '#fdc5ae', '#fcb69b', '#fc8262', '#fc8262', '#f5533b', '#fc9b7c', '#fb7555', '#f14432', '#fb7252', '#fc8b6b', '#fb7757', '#fb7858', '#fc9373', '#fc8969', '#fc9d7f', '#fc9d7f', '#fca78b', '#fcbea5', '#fcab8f', '#fca486', '#fca486', '#fcb398', '#fca689', '#fcb398', '#fcab8f', '#fcaa8d', '#fcb89e', '#fca588', '#fc8262', '#fcb499', '#fca98c', '#fcb79c', '#fcaa8d', '#fcbba1', '#fc8969', '#fc8767', '#fc8d6d', '#fca082', '#fcb296', '#fcab8f', '#fcb398', '#fcbba1', '#fcbba1', '#fcbea5', '#fdc5ae', '#fcb296', '#fcb99f', '#fcc1a8', '#fcaa8d', '#fcbba1', '#fcc2aa', '#fdd3c1', '#fdd3c1', '#fdcebb', '#fdd4c2', '#fdc5ae', '#fdcdb9', '#fdcebb', '#fcb99f', '#fcb89e', '#fcaa8d', '#fcab8f', '#fcbea5', '#fcbba1', '#fcc3ab', '#fcaa8d', '#fc9b7c', '#e32f27', '#fb6c4c', '#fc8f6f', '#fcb69b', '#fcc3ab', '#fc9b7c', '#fc8e6e', '#fcbda4', '#fdc5ae', '#fc9b7c', '#fca78b', '#fcab8f', '#fcab8f', '#fcaa8d', '#fc9070', '#f6553c', '#ca181d', '#f4503a', '#fb7858', '#fc9373', '#fcad90', '#fcc2aa', '#fdc9b3', '#fdd1be', '#fdd0bc', '#fdd4c2', '#fdcab5', '#fdcebb', '#fcb89e', '#fcc3ab', '#fdcebb', '#fdc6b0', '#fdc5ae', '#fcb095', '#fb7b5b', '#fa6547', '#cb181d', '#db2824', '#67000d', '#be151a', '#f96044', '#fb7050', '#fb7555', '#fc8666', '#fc9474', '#fc8d6d', '#fcb398', '#fca183', '#fcaf93', '#fcbea5', '#fcbba1', '#fcad90', '#fca78b', '#fcaa8d', '#fca183', '#fcb398', '#fcaa8d', '#fca98c', '#fcb296', '#fca082', '#fc8161', '#fca285', '#fca689', '#fcb095', '#fca78b', '#fcbea5', '#fc8767', '#fb7858', '#fc8b6b', '#fc9e80', '#fcbda4', '#fcaa8d', '#fcb398', '#fcb99f', '#fcbfa7', '#fcc4ad', '#fcc1a8', '#fcb095', '#fcab8f', '#fcae92', '#fb7858', '#fcaa8d', '#fcbea5', '#fdccb8', '#fdd4c2', '#fdcdb9', '#fdd3c1', '#fdc9b3', '#fdcab5', '#fdd0bc', '#fcbea5', '#fcb296', '#fca98c', '#fca183', '#fcc2aa', '#fcbfa7', '#fcc3ab', '#fcab8f', '#fc9c7d']\n"
     ]
    }
   ],
   "source": [
    "print(colors_per_residue)"
   ]
  },
  {
   "cell_type": "markdown",
   "metadata": {},
   "source": [
    "Ahora necesitamos crear el objecto '_ColorScheme' de nglview... indicando qué color corresponde a qué índice de residuo:"
   ]
  },
  {
   "cell_type": "code",
   "execution_count": 84,
   "metadata": {},
   "outputs": [],
   "source": [
    "auxiliar_list = [[ii, residue_labels[jj]] for ii,jj in zip(colors_per_residue, range(len(colors_per_residue)))]"
   ]
  },
  {
   "cell_type": "code",
   "execution_count": 85,
   "metadata": {},
   "outputs": [
    {
     "data": {
      "text/plain": [
       "[['#e43027', '1:A'],\n",
       " ['#fb6d4d', '2:A'],\n",
       " ['#fc9b7c', '3:A'],\n",
       " ['#fcb69b', '4:A'],\n",
       " ['#fcc3ab', '5:A'],\n",
       " ['#fc9b7c', '6:A'],\n",
       " ['#fc8f6f', '7:A'],\n",
       " ['#fcbda4', '8:A'],\n",
       " ['#fdc6b0', '9:A'],\n",
       " ['#fca78b', '10:A'],\n",
       " ['#fca98c', '11:A'],\n",
       " ['#fcaf93', '12:A'],\n",
       " ['#fcaf93', '13:A'],\n",
       " ['#fcb095', '14:A'],\n",
       " ['#fca183', '15:A'],\n",
       " ['#fca285', '16:A'],\n",
       " ['#da2723', '17:A'],\n",
       " ['#f96044', '18:A'],\n",
       " ['#fc8262', '19:A'],\n",
       " ['#fc9777', '20:A'],\n",
       " ['#fcaf93', '21:A'],\n",
       " ['#fcc3ab', '22:A'],\n",
       " ['#fdcbb6', '23:A'],\n",
       " ['#fdd2bf', '24:A'],\n",
       " ['#fdd0bc', '25:A'],\n",
       " ['#fdd4c2', '26:A'],\n",
       " ['#fdc9b3', '27:A'],\n",
       " ['#fdd0bc', '28:A'],\n",
       " ['#fcb89e', '29:A'],\n",
       " ['#fcbea5', '30:A'],\n",
       " ['#fdcdb9', '31:A'],\n",
       " ['#fdcab5', '32:A'],\n",
       " ['#fdc5ae', '33:A'],\n",
       " ['#fcb69b', '34:A'],\n",
       " ['#fc8262', '35:A'],\n",
       " ['#fc8262', '36:A'],\n",
       " ['#f5533b', '37:A'],\n",
       " ['#fc9b7c', '38:A'],\n",
       " ['#fb7555', '39:A'],\n",
       " ['#f14432', '40:A'],\n",
       " ['#fb7252', '41:A'],\n",
       " ['#fc8b6b', '42:A'],\n",
       " ['#fb7757', '43:A'],\n",
       " ['#fb7858', '44:A'],\n",
       " ['#fc9373', '45:A'],\n",
       " ['#fc8969', '46:A'],\n",
       " ['#fc9d7f', '47:A'],\n",
       " ['#fc9d7f', '48:A'],\n",
       " ['#fca78b', '49:A'],\n",
       " ['#fcbea5', '50:A'],\n",
       " ['#fcab8f', '51:A'],\n",
       " ['#fca486', '52:A'],\n",
       " ['#fca486', '53:A'],\n",
       " ['#fcb398', '54:A'],\n",
       " ['#fca689', '55:A'],\n",
       " ['#fcb398', '56:A'],\n",
       " ['#fcab8f', '57:A'],\n",
       " ['#fcaa8d', '58:A'],\n",
       " ['#fcb89e', '59:A'],\n",
       " ['#fca588', '60:A'],\n",
       " ['#fc8262', '61:A'],\n",
       " ['#fcb499', '62:A'],\n",
       " ['#fca98c', '63:A'],\n",
       " ['#fcb79c', '64:A'],\n",
       " ['#fcaa8d', '65:A'],\n",
       " ['#fcbba1', '66:A'],\n",
       " ['#fc8969', '67:A'],\n",
       " ['#fc8767', '68:A'],\n",
       " ['#fc8d6d', '69:A'],\n",
       " ['#fca082', '70:A'],\n",
       " ['#fcb296', '71:A'],\n",
       " ['#fcab8f', '72:A'],\n",
       " ['#fcb398', '73:A'],\n",
       " ['#fcbba1', '74:A'],\n",
       " ['#fcbba1', '75:A'],\n",
       " ['#fcbea5', '76:A'],\n",
       " ['#fdc5ae', '77:A'],\n",
       " ['#fcb296', '78:A'],\n",
       " ['#fcb99f', '79:A'],\n",
       " ['#fcc1a8', '80:A'],\n",
       " ['#fcaa8d', '81:A'],\n",
       " ['#fcbba1', '82:A'],\n",
       " ['#fcc2aa', '83:A'],\n",
       " ['#fdd3c1', '84:A'],\n",
       " ['#fdd3c1', '85:A'],\n",
       " ['#fdcebb', '86:A'],\n",
       " ['#fdd4c2', '87:A'],\n",
       " ['#fdc5ae', '88:A'],\n",
       " ['#fdcdb9', '89:A'],\n",
       " ['#fdcebb', '90:A'],\n",
       " ['#fcb99f', '91:A'],\n",
       " ['#fcb89e', '92:A'],\n",
       " ['#fcaa8d', '93:A'],\n",
       " ['#fcab8f', '94:A'],\n",
       " ['#fcbea5', '95:A'],\n",
       " ['#fcbba1', '96:A'],\n",
       " ['#fcc3ab', '97:A'],\n",
       " ['#fcaa8d', '98:A'],\n",
       " ['#fc9b7c', '99:A'],\n",
       " ['#e32f27', '1:B'],\n",
       " ['#fb6c4c', '2:B'],\n",
       " ['#fc8f6f', '3:B'],\n",
       " ['#fcb69b', '4:B'],\n",
       " ['#fcc3ab', '5:B'],\n",
       " ['#fc9b7c', '6:B'],\n",
       " ['#fc8e6e', '7:B'],\n",
       " ['#fcbda4', '8:B'],\n",
       " ['#fdc5ae', '9:B'],\n",
       " ['#fc9b7c', '10:B'],\n",
       " ['#fca78b', '11:B'],\n",
       " ['#fcab8f', '12:B'],\n",
       " ['#fcab8f', '13:B'],\n",
       " ['#fcaa8d', '14:B'],\n",
       " ['#fc9070', '15:B'],\n",
       " ['#f6553c', '16:B'],\n",
       " ['#ca181d', '17:B'],\n",
       " ['#f4503a', '18:B'],\n",
       " ['#fb7858', '19:B'],\n",
       " ['#fc9373', '20:B'],\n",
       " ['#fcad90', '21:B'],\n",
       " ['#fcc2aa', '22:B'],\n",
       " ['#fdc9b3', '23:B'],\n",
       " ['#fdd1be', '24:B'],\n",
       " ['#fdd0bc', '25:B'],\n",
       " ['#fdd4c2', '26:B'],\n",
       " ['#fdcab5', '27:B'],\n",
       " ['#fdcebb', '28:B'],\n",
       " ['#fcb89e', '29:B'],\n",
       " ['#fcc3ab', '30:B'],\n",
       " ['#fdcebb', '31:B'],\n",
       " ['#fdc6b0', '32:B'],\n",
       " ['#fdc5ae', '33:B'],\n",
       " ['#fcb095', '34:B'],\n",
       " ['#fb7b5b', '35:B'],\n",
       " ['#fa6547', '36:B'],\n",
       " ['#cb181d', '37:B'],\n",
       " ['#db2824', '38:B'],\n",
       " ['#67000d', '39:B'],\n",
       " ['#be151a', '40:B'],\n",
       " ['#f96044', '41:B'],\n",
       " ['#fb7050', '42:B'],\n",
       " ['#fb7555', '43:B'],\n",
       " ['#fc8666', '44:B'],\n",
       " ['#fc9474', '45:B'],\n",
       " ['#fc8d6d', '46:B'],\n",
       " ['#fcb398', '47:B'],\n",
       " ['#fca183', '48:B'],\n",
       " ['#fcaf93', '49:B'],\n",
       " ['#fcbea5', '50:B'],\n",
       " ['#fcbba1', '51:B'],\n",
       " ['#fcad90', '52:B'],\n",
       " ['#fca78b', '53:B'],\n",
       " ['#fcaa8d', '54:B'],\n",
       " ['#fca183', '55:B'],\n",
       " ['#fcb398', '56:B'],\n",
       " ['#fcaa8d', '57:B'],\n",
       " ['#fca98c', '58:B'],\n",
       " ['#fcb296', '59:B'],\n",
       " ['#fca082', '60:B'],\n",
       " ['#fc8161', '61:B'],\n",
       " ['#fca285', '62:B'],\n",
       " ['#fca689', '63:B'],\n",
       " ['#fcb095', '64:B'],\n",
       " ['#fca78b', '65:B'],\n",
       " ['#fcbea5', '66:B'],\n",
       " ['#fc8767', '67:B'],\n",
       " ['#fb7858', '68:B'],\n",
       " ['#fc8b6b', '69:B'],\n",
       " ['#fc9e80', '70:B'],\n",
       " ['#fcbda4', '71:B'],\n",
       " ['#fcaa8d', '72:B'],\n",
       " ['#fcb398', '73:B'],\n",
       " ['#fcb99f', '74:B'],\n",
       " ['#fcbfa7', '75:B'],\n",
       " ['#fcc4ad', '76:B'],\n",
       " ['#fcc1a8', '77:B'],\n",
       " ['#fcb095', '78:B'],\n",
       " ['#fcab8f', '79:B'],\n",
       " ['#fcae92', '80:B'],\n",
       " ['#fb7858', '81:B'],\n",
       " ['#fcaa8d', '82:B'],\n",
       " ['#fcbea5', '83:B'],\n",
       " ['#fdccb8', '84:B'],\n",
       " ['#fdd4c2', '85:B'],\n",
       " ['#fdcdb9', '86:B'],\n",
       " ['#fdd3c1', '87:B'],\n",
       " ['#fdc9b3', '88:B'],\n",
       " ['#fdcab5', '89:B'],\n",
       " ['#fdd0bc', '90:B'],\n",
       " ['#fcbea5', '91:B'],\n",
       " ['#fcb296', '92:B'],\n",
       " ['#fca98c', '93:B'],\n",
       " ['#fca183', '94:B'],\n",
       " ['#fcc2aa', '95:B'],\n",
       " ['#fcbfa7', '96:B'],\n",
       " ['#fcc3ab', '97:B'],\n",
       " ['#fcab8f', '98:B'],\n",
       " ['#fc9c7d', '99:B']]"
      ]
     },
     "execution_count": 85,
     "metadata": {},
     "output_type": "execute_result"
    }
   ],
   "source": [
    "auxiliar_list"
   ]
  },
  {
   "cell_type": "code",
   "execution_count": 86,
   "metadata": {},
   "outputs": [],
   "source": [
    "scheme = _ColorScheme(auxiliar_list, label='user')"
   ]
  },
  {
   "cell_type": "code",
   "execution_count": 87,
   "metadata": {},
   "outputs": [
    {
     "name": "stdout",
     "output_type": "stream",
     "text": [
      "{'data': [['#e43027', '1:A'], ['#fb6d4d', '2:A'], ['#fc9b7c', '3:A'], ['#fcb69b', '4:A'], ['#fcc3ab', '5:A'], ['#fc9b7c', '6:A'], ['#fc8f6f', '7:A'], ['#fcbda4', '8:A'], ['#fdc6b0', '9:A'], ['#fca78b', '10:A'], ['#fca98c', '11:A'], ['#fcaf93', '12:A'], ['#fcaf93', '13:A'], ['#fcb095', '14:A'], ['#fca183', '15:A'], ['#fca285', '16:A'], ['#da2723', '17:A'], ['#f96044', '18:A'], ['#fc8262', '19:A'], ['#fc9777', '20:A'], ['#fcaf93', '21:A'], ['#fcc3ab', '22:A'], ['#fdcbb6', '23:A'], ['#fdd2bf', '24:A'], ['#fdd0bc', '25:A'], ['#fdd4c2', '26:A'], ['#fdc9b3', '27:A'], ['#fdd0bc', '28:A'], ['#fcb89e', '29:A'], ['#fcbea5', '30:A'], ['#fdcdb9', '31:A'], ['#fdcab5', '32:A'], ['#fdc5ae', '33:A'], ['#fcb69b', '34:A'], ['#fc8262', '35:A'], ['#fc8262', '36:A'], ['#f5533b', '37:A'], ['#fc9b7c', '38:A'], ['#fb7555', '39:A'], ['#f14432', '40:A'], ['#fb7252', '41:A'], ['#fc8b6b', '42:A'], ['#fb7757', '43:A'], ['#fb7858', '44:A'], ['#fc9373', '45:A'], ['#fc8969', '46:A'], ['#fc9d7f', '47:A'], ['#fc9d7f', '48:A'], ['#fca78b', '49:A'], ['#fcbea5', '50:A'], ['#fcab8f', '51:A'], ['#fca486', '52:A'], ['#fca486', '53:A'], ['#fcb398', '54:A'], ['#fca689', '55:A'], ['#fcb398', '56:A'], ['#fcab8f', '57:A'], ['#fcaa8d', '58:A'], ['#fcb89e', '59:A'], ['#fca588', '60:A'], ['#fc8262', '61:A'], ['#fcb499', '62:A'], ['#fca98c', '63:A'], ['#fcb79c', '64:A'], ['#fcaa8d', '65:A'], ['#fcbba1', '66:A'], ['#fc8969', '67:A'], ['#fc8767', '68:A'], ['#fc8d6d', '69:A'], ['#fca082', '70:A'], ['#fcb296', '71:A'], ['#fcab8f', '72:A'], ['#fcb398', '73:A'], ['#fcbba1', '74:A'], ['#fcbba1', '75:A'], ['#fcbea5', '76:A'], ['#fdc5ae', '77:A'], ['#fcb296', '78:A'], ['#fcb99f', '79:A'], ['#fcc1a8', '80:A'], ['#fcaa8d', '81:A'], ['#fcbba1', '82:A'], ['#fcc2aa', '83:A'], ['#fdd3c1', '84:A'], ['#fdd3c1', '85:A'], ['#fdcebb', '86:A'], ['#fdd4c2', '87:A'], ['#fdc5ae', '88:A'], ['#fdcdb9', '89:A'], ['#fdcebb', '90:A'], ['#fcb99f', '91:A'], ['#fcb89e', '92:A'], ['#fcaa8d', '93:A'], ['#fcab8f', '94:A'], ['#fcbea5', '95:A'], ['#fcbba1', '96:A'], ['#fcc3ab', '97:A'], ['#fcaa8d', '98:A'], ['#fc9b7c', '99:A'], ['#e32f27', '1:B'], ['#fb6c4c', '2:B'], ['#fc8f6f', '3:B'], ['#fcb69b', '4:B'], ['#fcc3ab', '5:B'], ['#fc9b7c', '6:B'], ['#fc8e6e', '7:B'], ['#fcbda4', '8:B'], ['#fdc5ae', '9:B'], ['#fc9b7c', '10:B'], ['#fca78b', '11:B'], ['#fcab8f', '12:B'], ['#fcab8f', '13:B'], ['#fcaa8d', '14:B'], ['#fc9070', '15:B'], ['#f6553c', '16:B'], ['#ca181d', '17:B'], ['#f4503a', '18:B'], ['#fb7858', '19:B'], ['#fc9373', '20:B'], ['#fcad90', '21:B'], ['#fcc2aa', '22:B'], ['#fdc9b3', '23:B'], ['#fdd1be', '24:B'], ['#fdd0bc', '25:B'], ['#fdd4c2', '26:B'], ['#fdcab5', '27:B'], ['#fdcebb', '28:B'], ['#fcb89e', '29:B'], ['#fcc3ab', '30:B'], ['#fdcebb', '31:B'], ['#fdc6b0', '32:B'], ['#fdc5ae', '33:B'], ['#fcb095', '34:B'], ['#fb7b5b', '35:B'], ['#fa6547', '36:B'], ['#cb181d', '37:B'], ['#db2824', '38:B'], ['#67000d', '39:B'], ['#be151a', '40:B'], ['#f96044', '41:B'], ['#fb7050', '42:B'], ['#fb7555', '43:B'], ['#fc8666', '44:B'], ['#fc9474', '45:B'], ['#fc8d6d', '46:B'], ['#fcb398', '47:B'], ['#fca183', '48:B'], ['#fcaf93', '49:B'], ['#fcbea5', '50:B'], ['#fcbba1', '51:B'], ['#fcad90', '52:B'], ['#fca78b', '53:B'], ['#fcaa8d', '54:B'], ['#fca183', '55:B'], ['#fcb398', '56:B'], ['#fcaa8d', '57:B'], ['#fca98c', '58:B'], ['#fcb296', '59:B'], ['#fca082', '60:B'], ['#fc8161', '61:B'], ['#fca285', '62:B'], ['#fca689', '63:B'], ['#fcb095', '64:B'], ['#fca78b', '65:B'], ['#fcbea5', '66:B'], ['#fc8767', '67:B'], ['#fb7858', '68:B'], ['#fc8b6b', '69:B'], ['#fc9e80', '70:B'], ['#fcbda4', '71:B'], ['#fcaa8d', '72:B'], ['#fcb398', '73:B'], ['#fcb99f', '74:B'], ['#fcbfa7', '75:B'], ['#fcc4ad', '76:B'], ['#fcc1a8', '77:B'], ['#fcb095', '78:B'], ['#fcab8f', '79:B'], ['#fcae92', '80:B'], ['#fb7858', '81:B'], ['#fcaa8d', '82:B'], ['#fcbea5', '83:B'], ['#fdccb8', '84:B'], ['#fdd4c2', '85:B'], ['#fdcdb9', '86:B'], ['#fdd3c1', '87:B'], ['#fdc9b3', '88:B'], ['#fdcab5', '89:B'], ['#fdd0bc', '90:B'], ['#fcbea5', '91:B'], ['#fcb296', '92:B'], ['#fca98c', '93:B'], ['#fca183', '94:B'], ['#fcc2aa', '95:B'], ['#fcbfa7', '96:B'], ['#fcc3ab', '97:B'], ['#fcab8f', '98:B'], ['#fc9c7d', '99:B']], 'label': 'user_user'}\n"
     ]
    }
   ],
   "source": [
    "print(scheme.data)"
   ]
  },
  {
   "cell_type": "markdown",
   "metadata": {},
   "source": [
    "Ya lo tenemos!"
   ]
  },
  {
   "cell_type": "code",
   "execution_count": 88,
   "metadata": {},
   "outputs": [
    {
     "data": {
      "application/vnd.jupyter.widget-view+json": {
       "model_id": "aa27f77abb5441d79e8d4a33443af0be",
       "version_major": 2,
       "version_minor": 0
      },
      "text/plain": [
       "NGLWidget()"
      ]
     },
     "metadata": {},
     "output_type": "display_data"
    }
   ],
   "source": [
    "view = nv.show_mdtraj(traj_protein)\n",
    "view.clear()\n",
    "view.add_cartoon(selection='all', color=scheme)\n",
    "view"
   ]
  },
  {
   "cell_type": "code",
   "execution_count": null,
   "metadata": {},
   "outputs": [],
   "source": []
  }
 ],
 "metadata": {
  "colab": {
   "collapsed_sections": [],
   "name": "Kirchoff_matrix.ipynb",
   "provenance": [],
   "toc_visible": true
  },
  "kernelspec": {
   "display_name": "Python 3 (ipykernel)",
   "language": "python",
   "name": "python3"
  },
  "language_info": {
   "codemirror_mode": {
    "name": "ipython",
    "version": 3
   },
   "file_extension": ".py",
   "mimetype": "text/x-python",
   "name": "python",
   "nbconvert_exporter": "python",
   "pygments_lexer": "ipython3",
   "version": "3.7.12"
  }
 },
 "nbformat": 4,
 "nbformat_minor": 4
}
