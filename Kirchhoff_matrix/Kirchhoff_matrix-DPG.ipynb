{
 "cells": [
  {
   "cell_type": "code",
   "execution_count": 1,
   "metadata": {
    "id": "9IW2nHk6lFAn"
   },
   "outputs": [
    {
     "data": {
      "application/vnd.jupyter.widget-view+json": {
       "model_id": "07f029eefe6547b7a85b842f962e3c9d",
       "version_major": 2,
       "version_minor": 0
      },
      "text/plain": []
     },
     "metadata": {},
     "output_type": "display_data"
    }
   ],
   "source": [
    "import numpy as np\n",
    "import requests\n",
    "import os\n",
    "from numpy.linalg import eigh\n",
    "import matplotlib.pyplot as plt\n",
    "import mdtraj as md\n",
    "import nglview as nv"
   ]
  },
  {
   "cell_type": "markdown",
   "metadata": {
    "id": "wyTN-ZatlFAs"
   },
   "source": [
    "# Working with the Kirchoff matrix of the Gaussian Network Model"
   ]
  },
  {
   "cell_type": "markdown",
   "metadata": {
    "id": "iHmTqGWLlFAv"
   },
   "source": [
    "## Downloading any PDB file\n",
    "\n",
    "Let's first of all store the PDB id we want to download and the path where the file needs to be located:"
   ]
  },
  {
   "cell_type": "code",
   "execution_count": 2,
   "metadata": {
    "id": "SBq9QCvelFAw"
   },
   "outputs": [],
   "source": [
    "pdb_id = '1HIV'\n",
    "download_path = \"./\""
   ]
  },
  {
   "cell_type": "markdown",
   "metadata": {
    "id": "ZGlDJEy1lFAx"
   },
   "source": [
    "And now let's define an auxiliary function to download pdb files to be stored locally in our machine."
   ]
  },
  {
   "cell_type": "code",
   "execution_count": 3,
   "metadata": {
    "id": "UtL1UAavlFAz"
   },
   "outputs": [],
   "source": [
    "def fetch_pdb(pdb_id, download_path=\"./\"):\n",
    "        url = 'http://files.rcsb.org/download/{}.pdb'.format(pdb_id)\n",
    "        try:\n",
    "            res = requests.get(url, allow_redirects=True)\n",
    "        except:\n",
    "            print(\"Could not fetch pdb from {}\".format(url))\n",
    "            return \n",
    "        \n",
    "        file_path = os.path.join(download_path, pdb_id + \".pdb\")\n",
    "        with open(file_path, \"wb\") as f:\n",
    "            f.write(res.content)\n",
    "        print(f\"The {pdb_id} file was downloaded succesfully!\")"
   ]
  },
  {
   "cell_type": "markdown",
   "metadata": {
    "id": "M57wYbIglFA0"
   },
   "source": [
    "Time to try it!"
   ]
  },
  {
   "cell_type": "code",
   "execution_count": 4,
   "metadata": {
    "colab": {
     "base_uri": "https://localhost:8080/"
    },
    "id": "kZNqSmJ_lFA1",
    "outputId": "f061da89-3fee-4529-bcca-3fe54d007bb2"
   },
   "outputs": [
    {
     "name": "stdout",
     "output_type": "stream",
     "text": [
      "The 1HIV file was downloaded succesfully!\n"
     ]
    }
   ],
   "source": [
    "fetch_pdb(pdb_id, download_path=download_path)"
   ]
  },
  {
   "cell_type": "markdown",
   "metadata": {
    "id": "HHla4c3KlFA2"
   },
   "source": [
    "## Parsing the positions of the CA atoms\n",
    "\n",
    "We are going take an approach not very short and efficiente to obtain the coordinates of the CA atoms. But let's do it this way just once:"
   ]
  },
  {
   "cell_type": "code",
   "execution_count": 5,
   "metadata": {
    "id": "P4vnOMKKlFA3"
   },
   "outputs": [],
   "source": [
    "file_path = os.path.join(download_path, pdb_id + \".pdb\")\n",
    "\n",
    "CA_coordinates = []\n",
    "\n",
    "with open(file_path) as fff:\n",
    "    for line in fff.readlines():\n",
    "        if line.startswith('ATOM  ') and line.split()[2]=='CA' :\n",
    "          \n",
    "            x, y, z = line.split()[6:9]\n",
    "            CA_coordinates.append([float(x), float(y), float(z)])"
   ]
  },
  {
   "cell_type": "markdown",
   "metadata": {
    "id": "9PeYmfgWlFA4"
   },
   "source": [
    "Ok, `CA_coordinates` is a list of lists... let's convert it to a numpy array:"
   ]
  },
  {
   "cell_type": "code",
   "execution_count": 6,
   "metadata": {
    "id": "aYCi7ZRvlFA4"
   },
   "outputs": [],
   "source": [
    "CA_coordinates = np.array(CA_coordinates)"
   ]
  },
  {
   "cell_type": "markdown",
   "metadata": {
    "id": "dp0YgOxpvj-Q"
   },
   "source": [
    "## Defining the Kirchhoff matrix"
   ]
  },
  {
   "cell_type": "code",
   "execution_count": 7,
   "metadata": {
    "id": "Gzv73WPtlXkH"
   },
   "outputs": [],
   "source": [
    "def kirchhoff_matrix(CA, threshold):\n",
    "    num_CAs = CA.shape[0]\n",
    "    matrix = np.zeros((num_CAs, num_CAs), dtype=int)\n",
    "    for ii in range(num_CAs):\n",
    "        for jj in range(ii):\n",
    "            rij=CA[ii]-CA[jj]\n",
    "            distance=np.sqrt(np.dot(rij,rij))\n",
    "            if distance<threshold:\n",
    "                matrix[ii,jj] = -1\n",
    "                matrix[jj,ii] = -1\n",
    "                matrix[ii,ii] += 1\n",
    "                matrix[jj,jj] += 1\n",
    "    return matrix"
   ]
  },
  {
   "cell_type": "code",
   "execution_count": 8,
   "metadata": {
    "colab": {
     "base_uri": "https://localhost:8080/"
    },
    "id": "H7U1Rz2wmETc",
    "outputId": "44282bfa-cf43-4b3b-effa-52077b926771"
   },
   "outputs": [],
   "source": [
    "K_matrix = kirchhoff_matrix(CA_coordinates, 9.0)"
   ]
  },
  {
   "cell_type": "markdown",
   "metadata": {},
   "source": [
    "## Diagonalizing from its eigenvalues"
   ]
  },
  {
   "cell_type": "code",
   "execution_count": 9,
   "metadata": {},
   "outputs": [],
   "source": [
    "eigenvals, eigenvects = eigh(K_matrix)"
   ]
  },
  {
   "cell_type": "code",
   "execution_count": 10,
   "metadata": {},
   "outputs": [
    {
     "data": {
      "image/png": "[encoded data removed]",
      "text/plain": [
       "<Figure size 432x288 with 1 Axes>"
      ]
     },
     "metadata": {
      "needs_background": "light"
     },
     "output_type": "display_data"
    }
   ],
   "source": [
    "num_modes = eigenvals.shape[0]\n",
    "\n",
    "plt.scatter(range(num_modes), eigenvals)\n",
    "plt.title('Eigenvalues Spectrum')\n",
    "plt.xlabel('Eigenvalue index')\n",
    "plt.show()"
   ]
  },
  {
   "cell_type": "code",
   "execution_count": 21,
   "metadata": {},
   "outputs": [
    {
     "data": {
      "image/png": "[encoded data removed]",
      "text/plain": [
       "<Figure size 432x288 with 1 Axes>"
      ]
     },
     "metadata": {
      "needs_background": "light"
     },
     "output_type": "display_data"
    }
   ],
   "source": [
    "mode_index = 1\n",
    "plt.plot(range(num_modes), eigenvects[:,mode_index])\n",
    "plt.title(f'{mode_index}-th normalized mode')\n",
    "plt.xlabel('CA index')\n",
    "plt.show()"
   ]
  },
  {
   "cell_type": "markdown",
   "metadata": {},
   "source": [
    "# The fluctuation contribution of each mode over the protein"
   ]
  },
  {
   "cell_type": "code",
   "execution_count": 39,
   "metadata": {},
   "outputs": [],
   "source": [
    "traj = md.load(file_path)"
   ]
  },
  {
   "cell_type": "code",
   "execution_count": 47,
   "metadata": {},
   "outputs": [],
   "source": [
    "atoms_in_protein = traj.topology.select('chainid 0 1')"
   ]
  },
  {
   "cell_type": "code",
   "execution_count": 48,
   "metadata": {},
   "outputs": [],
   "source": [
    "traj_protein = traj.atom_slice(atoms_in_protein)"
   ]
  },
  {
   "cell_type": "code",
   "execution_count": 49,
   "metadata": {},
   "outputs": [
    {
     "data": {
      "application/vnd.jupyter.widget-view+json": {
       "model_id": "d43563606b094e668010d1326b7538e2",
       "version_major": 2,
       "version_minor": 0
      },
      "text/plain": [
       "NGLWidget()"
      ]
     },
     "metadata": {},
     "output_type": "display_data"
    }
   ],
   "source": [
    "nv.show_mdtraj(traj_protein)"
   ]
  },
  {
   "cell_type": "code",
   "execution_count": null,
   "metadata": {},
   "outputs": [],
   "source": []
  }
 ],
 "metadata": {
  "colab": {
   "collapsed_sections": [],
   "name": "Kirchoff_matrix.ipynb",
   "provenance": [],
   "toc_visible": true
  },
  "kernelspec": {
   "display_name": "Python 3 (ipykernel)",
   "language": "python",
   "name": "python3"
  },
  "language_info": {
   "codemirror_mode": {
    "name": "ipython",
    "version": 3
   },
   "file_extension": ".py",
   "mimetype": "text/x-python",
   "name": "python",
   "nbconvert_exporter": "python",
   "pygments_lexer": "ipython3",
   "version": "3.7.12"
  }
 },
 "nbformat": 4,
 "nbformat_minor": 4
}
